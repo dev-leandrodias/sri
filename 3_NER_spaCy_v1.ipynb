{
  "nbformat": 4,
  "nbformat_minor": 0,
  "metadata": {
    "colab": {
      "provenance": [],
      "toc_visible": true,
      "include_colab_link": true
    },
    "kernelspec": {
      "name": "python3",
      "display_name": "Python 3"
    },
    "widgets": {
      "application/vnd.jupyter.widget-state+json": {
        "fb91b9eb70a54d30b27559b604f48e07": {
          "model_module": "@jupyter-widgets/controls",
          "model_name": "HBoxModel",
          "model_module_version": "1.5.0",
          "state": {
            "_dom_classes": [],
            "_model_module": "@jupyter-widgets/controls",
            "_model_module_version": "1.5.0",
            "_model_name": "HBoxModel",
            "_view_count": null,
            "_view_module": "@jupyter-widgets/controls",
            "_view_module_version": "1.5.0",
            "_view_name": "HBoxView",
            "box_style": "",
            "children": [
              "IPY_MODEL_40ddd039c99344f4bc89e6737f0f5c37",
              "IPY_MODEL_cf4551ab33bf4ddfaa202ea5ab62f55c",
              "IPY_MODEL_af4c2b8810b74d37bb77c9476bfbf7da"
            ],
            "layout": "IPY_MODEL_4a2b0b4f859d4965bad0472b00541149"
          }
        },
        "40ddd039c99344f4bc89e6737f0f5c37": {
          "model_module": "@jupyter-widgets/controls",
          "model_name": "HTMLModel",
          "model_module_version": "1.5.0",
          "state": {
            "_dom_classes": [],
            "_model_module": "@jupyter-widgets/controls",
            "_model_module_version": "1.5.0",
            "_model_name": "HTMLModel",
            "_view_count": null,
            "_view_module": "@jupyter-widgets/controls",
            "_view_module_version": "1.5.0",
            "_view_name": "HTMLView",
            "description": "",
            "description_tooltip": null,
            "layout": "IPY_MODEL_5d5958561dcd42fe9fbbef4811fa3f33",
            "placeholder": "​",
            "style": "IPY_MODEL_16b36ddbb91b4ae48a0aae449f03fec2",
            "value": "Dados: 100%"
          }
        },
        "cf4551ab33bf4ddfaa202ea5ab62f55c": {
          "model_module": "@jupyter-widgets/controls",
          "model_name": "FloatProgressModel",
          "model_module_version": "1.5.0",
          "state": {
            "_dom_classes": [],
            "_model_module": "@jupyter-widgets/controls",
            "_model_module_version": "1.5.0",
            "_model_name": "FloatProgressModel",
            "_view_count": null,
            "_view_module": "@jupyter-widgets/controls",
            "_view_module_version": "1.5.0",
            "_view_name": "ProgressView",
            "bar_style": "success",
            "description": "",
            "description_tooltip": null,
            "layout": "IPY_MODEL_42ca13a551394e6cbe8c2742cbfa266b",
            "max": 20,
            "min": 0,
            "orientation": "horizontal",
            "style": "IPY_MODEL_7ed1e2ad34c9445fabe4a48c056f39f9",
            "value": 20
          }
        },
        "af4c2b8810b74d37bb77c9476bfbf7da": {
          "model_module": "@jupyter-widgets/controls",
          "model_name": "HTMLModel",
          "model_module_version": "1.5.0",
          "state": {
            "_dom_classes": [],
            "_model_module": "@jupyter-widgets/controls",
            "_model_module_version": "1.5.0",
            "_model_name": "HTMLModel",
            "_view_count": null,
            "_view_module": "@jupyter-widgets/controls",
            "_view_module_version": "1.5.0",
            "_view_name": "HTMLView",
            "description": "",
            "description_tooltip": null,
            "layout": "IPY_MODEL_fc78712a559d44feb49d5df450248c11",
            "placeholder": "​",
            "style": "IPY_MODEL_3aa46003a7af40b0b546b8488efdccb8",
            "value": " 20/20 [00:01&lt;00:00, 12.81registro/s]"
          }
        },
        "4a2b0b4f859d4965bad0472b00541149": {
          "model_module": "@jupyter-widgets/base",
          "model_name": "LayoutModel",
          "model_module_version": "1.2.0",
          "state": {
            "_model_module": "@jupyter-widgets/base",
            "_model_module_version": "1.2.0",
            "_model_name": "LayoutModel",
            "_view_count": null,
            "_view_module": "@jupyter-widgets/base",
            "_view_module_version": "1.2.0",
            "_view_name": "LayoutView",
            "align_content": null,
            "align_items": null,
            "align_self": null,
            "border": null,
            "bottom": null,
            "display": null,
            "flex": null,
            "flex_flow": null,
            "grid_area": null,
            "grid_auto_columns": null,
            "grid_auto_flow": null,
            "grid_auto_rows": null,
            "grid_column": null,
            "grid_gap": null,
            "grid_row": null,
            "grid_template_areas": null,
            "grid_template_columns": null,
            "grid_template_rows": null,
            "height": null,
            "justify_content": null,
            "justify_items": null,
            "left": null,
            "margin": null,
            "max_height": null,
            "max_width": null,
            "min_height": null,
            "min_width": null,
            "object_fit": null,
            "object_position": null,
            "order": null,
            "overflow": null,
            "overflow_x": null,
            "overflow_y": null,
            "padding": null,
            "right": null,
            "top": null,
            "visibility": null,
            "width": null
          }
        },
        "5d5958561dcd42fe9fbbef4811fa3f33": {
          "model_module": "@jupyter-widgets/base",
          "model_name": "LayoutModel",
          "model_module_version": "1.2.0",
          "state": {
            "_model_module": "@jupyter-widgets/base",
            "_model_module_version": "1.2.0",
            "_model_name": "LayoutModel",
            "_view_count": null,
            "_view_module": "@jupyter-widgets/base",
            "_view_module_version": "1.2.0",
            "_view_name": "LayoutView",
            "align_content": null,
            "align_items": null,
            "align_self": null,
            "border": null,
            "bottom": null,
            "display": null,
            "flex": null,
            "flex_flow": null,
            "grid_area": null,
            "grid_auto_columns": null,
            "grid_auto_flow": null,
            "grid_auto_rows": null,
            "grid_column": null,
            "grid_gap": null,
            "grid_row": null,
            "grid_template_areas": null,
            "grid_template_columns": null,
            "grid_template_rows": null,
            "height": null,
            "justify_content": null,
            "justify_items": null,
            "left": null,
            "margin": null,
            "max_height": null,
            "max_width": null,
            "min_height": null,
            "min_width": null,
            "object_fit": null,
            "object_position": null,
            "order": null,
            "overflow": null,
            "overflow_x": null,
            "overflow_y": null,
            "padding": null,
            "right": null,
            "top": null,
            "visibility": null,
            "width": null
          }
        },
        "16b36ddbb91b4ae48a0aae449f03fec2": {
          "model_module": "@jupyter-widgets/controls",
          "model_name": "DescriptionStyleModel",
          "model_module_version": "1.5.0",
          "state": {
            "_model_module": "@jupyter-widgets/controls",
            "_model_module_version": "1.5.0",
            "_model_name": "DescriptionStyleModel",
            "_view_count": null,
            "_view_module": "@jupyter-widgets/base",
            "_view_module_version": "1.2.0",
            "_view_name": "StyleView",
            "description_width": ""
          }
        },
        "42ca13a551394e6cbe8c2742cbfa266b": {
          "model_module": "@jupyter-widgets/base",
          "model_name": "LayoutModel",
          "model_module_version": "1.2.0",
          "state": {
            "_model_module": "@jupyter-widgets/base",
            "_model_module_version": "1.2.0",
            "_model_name": "LayoutModel",
            "_view_count": null,
            "_view_module": "@jupyter-widgets/base",
            "_view_module_version": "1.2.0",
            "_view_name": "LayoutView",
            "align_content": null,
            "align_items": null,
            "align_self": null,
            "border": null,
            "bottom": null,
            "display": null,
            "flex": null,
            "flex_flow": null,
            "grid_area": null,
            "grid_auto_columns": null,
            "grid_auto_flow": null,
            "grid_auto_rows": null,
            "grid_column": null,
            "grid_gap": null,
            "grid_row": null,
            "grid_template_areas": null,
            "grid_template_columns": null,
            "grid_template_rows": null,
            "height": null,
            "justify_content": null,
            "justify_items": null,
            "left": null,
            "margin": null,
            "max_height": null,
            "max_width": null,
            "min_height": null,
            "min_width": null,
            "object_fit": null,
            "object_position": null,
            "order": null,
            "overflow": null,
            "overflow_x": null,
            "overflow_y": null,
            "padding": null,
            "right": null,
            "top": null,
            "visibility": null,
            "width": null
          }
        },
        "7ed1e2ad34c9445fabe4a48c056f39f9": {
          "model_module": "@jupyter-widgets/controls",
          "model_name": "ProgressStyleModel",
          "model_module_version": "1.5.0",
          "state": {
            "_model_module": "@jupyter-widgets/controls",
            "_model_module_version": "1.5.0",
            "_model_name": "ProgressStyleModel",
            "_view_count": null,
            "_view_module": "@jupyter-widgets/base",
            "_view_module_version": "1.2.0",
            "_view_name": "StyleView",
            "bar_color": null,
            "description_width": ""
          }
        },
        "fc78712a559d44feb49d5df450248c11": {
          "model_module": "@jupyter-widgets/base",
          "model_name": "LayoutModel",
          "model_module_version": "1.2.0",
          "state": {
            "_model_module": "@jupyter-widgets/base",
            "_model_module_version": "1.2.0",
            "_model_name": "LayoutModel",
            "_view_count": null,
            "_view_module": "@jupyter-widgets/base",
            "_view_module_version": "1.2.0",
            "_view_name": "LayoutView",
            "align_content": null,
            "align_items": null,
            "align_self": null,
            "border": null,
            "bottom": null,
            "display": null,
            "flex": null,
            "flex_flow": null,
            "grid_area": null,
            "grid_auto_columns": null,
            "grid_auto_flow": null,
            "grid_auto_rows": null,
            "grid_column": null,
            "grid_gap": null,
            "grid_row": null,
            "grid_template_areas": null,
            "grid_template_columns": null,
            "grid_template_rows": null,
            "height": null,
            "justify_content": null,
            "justify_items": null,
            "left": null,
            "margin": null,
            "max_height": null,
            "max_width": null,
            "min_height": null,
            "min_width": null,
            "object_fit": null,
            "object_position": null,
            "order": null,
            "overflow": null,
            "overflow_x": null,
            "overflow_y": null,
            "padding": null,
            "right": null,
            "top": null,
            "visibility": null,
            "width": null
          }
        },
        "3aa46003a7af40b0b546b8488efdccb8": {
          "model_module": "@jupyter-widgets/controls",
          "model_name": "DescriptionStyleModel",
          "model_module_version": "1.5.0",
          "state": {
            "_model_module": "@jupyter-widgets/controls",
            "_model_module_version": "1.5.0",
            "_model_name": "DescriptionStyleModel",
            "_view_count": null,
            "_view_module": "@jupyter-widgets/base",
            "_view_module_version": "1.2.0",
            "_view_name": "StyleView",
            "description_width": ""
          }
        }
      }
    }
  },
  "cells": [
    {
      "cell_type": "markdown",
      "metadata": {
        "id": "view-in-github",
        "colab_type": "text"
      },
      "source": [
        "<a href=\"https://colab.research.google.com/github/osmarbraz/sri/blob/main/3_NER_spaCy_v1.ipynb\" target=\"_parent\"><img src=\"https://colab.research.google.com/assets/colab-badge.svg\" alt=\"Open In Colab\"/></a>"
      ]
    },
    {
      "cell_type": "markdown",
      "metadata": {
        "id": "IziPWVaeGlWk"
      },
      "source": [
        "# Reconhecimento de entidades nomeada \n",
        "\n",
        "Reconhece as entidades nomeadas dos documentos do dataset.\n",
        "\n",
        "**Entrada**: \"`dataset.zip`\" e \"`datasetpos.zip`\"\n",
        "\n",
        "**Saída**: \"`datasetner.zip`\"\n",
        "\n",
        "**Processamento**:\n",
        "1. Copia e descompacta o arquivo \"`dataset.zip`\" e \"`datasetpos.zip`\" para a máquina local do \n",
        "Google Colab.\n",
        "2. Realiza o reconhecimento das entidades nomeadas dos documentos do conjunto de dados utilizando a ferramenta de PLN spaCy. \n",
        "3. Gera o arquivo \"`datasetner.csv`\" com os dados das PoS-Tagging.\n",
        "4. Compacta o arquivo \"`datasetner.csv`\" para \"`datasetner.zip`\"\n",
        "5. Copia o arquivo \"`datasetner.zip`\" para o google drive.\n",
        "\n",
        "**Estrutura do arquivo `datasetner.csv` compactado em `datasetner.zip`.**\n",
        "\n",
        "Cada linha do arquivo `datasetpos.csv` é formado por `[\"id\",\"ner_documento\"]`.\n",
        " - `\"id\"` é o idenficador do documento no dataset.\n",
        " - `\"ner_documento\"` é uma lista com as entidades reconhecidas do documento, formado por `[\"indice_sentenca\",\"lista_entidades\"]`.\n",
        "  - `\"indice_sentenca\"` é o índice da sentença no documento.\n",
        "  - `\"lista_entidades\"` é uma lista com as entidades reconhecidas na sentença formado por `[\"texto entidade\"`,`\"tipo entidade\"`, `\"posição inicial\"` e `\"posição final\"]`.\n"
      ]
    },
    {
      "cell_type": "markdown",
      "metadata": {
        "id": "OP33KWAtBMWs"
      },
      "source": [
        "# 1 Preparação do ambiente\n",
        "\n",
        "Preparação do ambiente para execução do script."
      ]
    },
    {
      "cell_type": "markdown",
      "metadata": {
        "id": "PKUr9Vk4BNLC"
      },
      "source": [
        "## 1.1 Tempo inicial de processamento"
      ]
    },
    {
      "cell_type": "code",
      "metadata": {
        "id": "JXclHCRQBSF2"
      },
      "source": [
        "# Import das bibliotecas.\n",
        "import time\n",
        "import datetime\n",
        "\n",
        "# Marca o tempo de início do processamento\n",
        "inicio_processamento = time.time()"
      ],
      "execution_count": 1,
      "outputs": []
    },
    {
      "cell_type": "markdown",
      "metadata": {
        "id": "GOcN8hK-scnt"
      },
      "source": [
        "## 1.2 Funções e classes auxiliares"
      ]
    },
    {
      "cell_type": "markdown",
      "source": [
        "Verifica se existe o diretório do notebook no diretório corrente.   \n"
      ],
      "metadata": {
        "id": "OPRnA-mk5-c4"
      }
    },
    {
      "cell_type": "code",
      "source": [
        "# Import das bibliotecas.\n",
        "import os # Biblioteca para manipular arquivos\n",
        "\n",
        "# ============================  \n",
        "def verificaDiretorioNotebook():\n",
        "    \"\"\"\n",
        "      Verifica se existe o diretório do notebook no diretório corrente.    \n",
        "    \"\"\"\n",
        "    \n",
        "    # Verifica se o diretório existe\n",
        "    if not os.path.exists(DIRETORIO_NOTEBOOK):  \n",
        "        # Cria o diretório\n",
        "        os.makedirs(DIRETORIO_NOTEBOOK)\n",
        "        logging.info(\"Diretório do notebook criado: {}\".format(DIRETORIO_NOTEBOOK))\n",
        "    \n",
        "    return DIRETORIO_NOTEBOOK"
      ],
      "metadata": {
        "id": "Fj5TaAH_5-nB"
      },
      "execution_count": 2,
      "outputs": []
    },
    {
      "cell_type": "markdown",
      "metadata": {
        "id": "603LYIYKBmq5"
      },
      "source": [
        "Função auxiliar para formatar o tempo como `hh: mm: ss`"
      ]
    },
    {
      "cell_type": "code",
      "metadata": {
        "id": "Guy6B4whsZFR"
      },
      "source": [
        "# Import das bibliotecas.\n",
        "import time\n",
        "import datetime\n",
        "\n",
        "def formataTempo(tempo):\n",
        "    \"\"\"\n",
        "      Pega a tempo em segundos e retorna uma string hh:mm:ss\n",
        "    \"\"\"\n",
        "    # Arredonda para o segundo mais próximo.\n",
        "    tempoArredondado = int(round((tempo)))\n",
        "    \n",
        "    # Formata como hh:mm:ss\n",
        "    return str(datetime.timedelta(seconds=tempoArredondado))    "
      ],
      "execution_count": 3,
      "outputs": []
    },
    {
      "cell_type": "markdown",
      "metadata": {
        "id": "zVKAapz7RCxk"
      },
      "source": [
        "Classe(ModelArguments) de definição dos parâmetros do modelo"
      ]
    },
    {
      "cell_type": "code",
      "metadata": {
        "id": "zgmN6RqDRDZS"
      },
      "source": [
        "# Import das bibliotecas.\n",
        "from dataclasses import dataclass, field\n",
        "from typing import Dict, Optional\n",
        "from typing import List\n",
        "\n",
        "@dataclass\n",
        "class ModelosParametros:\n",
        "    modelo_spacy: str = field(\n",
        "        default=\"pt_core_news_lg\",\n",
        "        metadata={\"help\": \"nome do modelo do spaCy.\"},\n",
        "    )"
      ],
      "execution_count": 4,
      "outputs": []
    },
    {
      "cell_type": "markdown",
      "metadata": {
        "id": "rceIwWa7UmFZ"
      },
      "source": [
        "Biblioteca de limpeza de tela\n"
      ]
    },
    {
      "cell_type": "code",
      "metadata": {
        "id": "PXTEvmuhUmjO"
      },
      "source": [
        "# Import das bibliotecas.\n",
        "from IPython.display import clear_output"
      ],
      "execution_count": 5,
      "outputs": []
    },
    {
      "cell_type": "markdown",
      "metadata": {
        "id": "iAPVtRXQqDim"
      },
      "source": [
        "## 1.3 Tratamento de logs"
      ]
    },
    {
      "cell_type": "code",
      "metadata": {
        "id": "DcopxbGZqDip"
      },
      "source": [
        "# Import das bibliotecas.\n",
        "import logging # Biblioteca de logging\n",
        "\n",
        "# Formatando a mensagem de logging\n",
        "logging.basicConfig(format=\"%(asctime)s : %(levelname)s : %(message)s\")\n",
        "\n",
        "logger = logging.getLogger()\n",
        "logger.setLevel(logging.INFO)"
      ],
      "execution_count": 6,
      "outputs": []
    },
    {
      "cell_type": "markdown",
      "metadata": {
        "id": "_GjYtXcMnSAe"
      },
      "source": [
        "## 1.4 Identificando o ambiente Colab"
      ]
    },
    {
      "cell_type": "code",
      "metadata": {
        "id": "YMiH0E3OnRa1"
      },
      "source": [
        "# Import das bibliotecas.\n",
        "import sys # Biblioteca para acessar módulos do sistema\n",
        "\n",
        "# Se estiver executando no Google Colaboratory\n",
        "# Retorna true ou false se estiver no Google Colaboratory\n",
        "IN_COLAB = \"google.colab\" in sys.modules"
      ],
      "execution_count": 7,
      "outputs": []
    },
    {
      "cell_type": "markdown",
      "metadata": {
        "id": "RinFHFesVKis"
      },
      "source": [
        "## 1.5 Colaboratory"
      ]
    },
    {
      "cell_type": "markdown",
      "metadata": {
        "id": "MPngEboiVbfi"
      },
      "source": [
        "Usando Colab GPU para Treinamento\n"
      ]
    },
    {
      "cell_type": "markdown",
      "metadata": {
        "id": "EjWE6WlvVbfj"
      },
      "source": [
        "Uma GPU pode ser adicionada acessando o menu e selecionando:\n",
        "\n",
        "`Edit -> Notebook Settings -> Hardware accelerator -> (GPU)`\n",
        "\n",
        "Em seguida, execute a célula a seguir para confirmar que a GPU foi detectada."
      ]
    },
    {
      "cell_type": "code",
      "metadata": {
        "id": "vtaYZmc3Vbfj",
        "colab": {
          "base_uri": "https://localhost:8080/"
        },
        "outputId": "b39501ec-eb87-42d0-d4e9-d4c0b3bc4095"
      },
      "source": [
        "# Import das bibliotecas.\n",
        "import tensorflow as tf\n",
        "\n",
        "# Recupera o nome do dispositido da GPU.\n",
        "device_name = tf.test.gpu_device_name()\n",
        "\n",
        "# O nome do dispositivo deve ser parecido com o seguinte:\n",
        "if device_name == \"/device:GPU:0\":\n",
        "    logging.info(\"Encontrei GPU em: {}\".format(device_name))\n",
        "else:\n",
        "    logging.info(\"Dispositivo GPU não encontrado\")\n",
        "    #raise SystemError(\"Dispositivo GPU não encontrado\")"
      ],
      "execution_count": 8,
      "outputs": [
        {
          "output_type": "stream",
          "name": "stderr",
          "text": [
            "INFO:numexpr.utils:NumExpr defaulting to 2 threads.\n",
            "INFO:root:Dispositivo GPU não encontrado\n"
          ]
        }
      ]
    },
    {
      "cell_type": "markdown",
      "metadata": {
        "id": "iYRrUo2XWa8G"
      },
      "source": [
        "Nome da GPU\n",
        "\n",
        "Para que a torch use a GPU, precisamos identificar e especificar a GPU como o dispositivo. Posteriormente, em nosso ciclo de treinamento, carregaremos dados no dispositivo.\n",
        "\n",
        "Vale a pena observar qual GPU você recebeu. A GPU Tesla P100 é muito mais rápido que as outras GPUs, abaixo uma lista ordenada:\n",
        "- 1o Tesla P100\n",
        "- 2o Tesla T4\n",
        "- 3o Tesla P4 (Não tem memória para execução 4 x 8, somente 2 x 4)\n",
        "- 4o Tesla K80 (Não tem memória para execução 4 x 8, somente 2 x 4)"
      ]
    },
    {
      "cell_type": "code",
      "execution_count": 9,
      "metadata": {
        "id": "zrjqDO6nWa8J"
      },
      "outputs": [],
      "source": [
        "# Import das bibliotecas.\n",
        "import torch # Biblioteca para manipular os tensores\n",
        "\n",
        "def getDeviceGPU():\n",
        "    \"\"\"\n",
        "    Retorna um dispositivo de GPU se disponível ou CPU.\n",
        "    \n",
        "    Retorno:\n",
        "    `device` - Um device de GPU ou CPU.       \n",
        "    \"\"\"\n",
        "        \n",
        "    # Se existe GPU disponível.\n",
        "    if torch.cuda.is_available():\n",
        "        \n",
        "        # Diz ao PyTorch para usar GPU.    \n",
        "        device = torch.device(\"cuda\")\n",
        "        \n",
        "        logging.info(\"Existem {} GPU(s) disponíveis.\".format(torch.cuda.device_count()))\n",
        "        logging.info(\"Iremos usar a GPU: {}.\".format(torch.cuda.get_device_name(0)))\n",
        "\n",
        "    # Se não.\n",
        "    else:        \n",
        "        logging.info(\"Sem GPU disponível, usando CPU.\")\n",
        "        device = torch.device(\"cpu\")\n",
        "        \n",
        "    return device"
      ]
    },
    {
      "cell_type": "code",
      "source": [
        "device = getDeviceGPU()"
      ],
      "metadata": {
        "id": "ChDxmtXsKwjf",
        "colab": {
          "base_uri": "https://localhost:8080/"
        },
        "outputId": "55ca6261-8925-4fe1-a7ab-169ebab53943"
      },
      "execution_count": 10,
      "outputs": [
        {
          "output_type": "stream",
          "name": "stderr",
          "text": [
            "INFO:root:Sem GPU disponível, usando CPU.\n"
          ]
        }
      ]
    },
    {
      "cell_type": "markdown",
      "source": [
        "Conecta o modelo ao device"
      ],
      "metadata": {
        "id": "kkdlEouHftcJ"
      }
    },
    {
      "cell_type": "code",
      "source": [
        "# Import das bibliotecas.\n",
        "import torch # Biblioteca para manipular os tensores\n",
        "\n",
        "def conectaGPU(model, device):\n",
        "    \"\"\"\n",
        "      Conecta um modelo BERT a GPU.\n",
        "\n",
        "      Parâmetros:\n",
        "        `model` - Um modelo BERT carregado.       \n",
        "        `device` - Um device de GPU.     \n",
        "    \n",
        "      Retorno:\n",
        "        `model` - Um objeto model BERT conectado a GPU.     \n",
        "    \"\"\"\n",
        "    # Associa a GPU ao modelo.\n",
        "    model.to(device)\n",
        "\n",
        "    # Se existe GPU disponível.\n",
        "    if torch.cuda.is_available():    \n",
        "        # Diga ao pytorch para rodar este modelo na GPU.\n",
        "        logging.info(\"Pytorch rodando o modelo na GPU.\")\n",
        "        model.cuda()\n",
        "        \n",
        "    else:\n",
        "        logging.info(\"Pytorch rodando sem GPU.\")\n",
        "\n",
        "    return model"
      ],
      "metadata": {
        "id": "a-znVDGyfsVx"
      },
      "execution_count": 11,
      "outputs": []
    },
    {
      "cell_type": "markdown",
      "metadata": {
        "id": "fGf59D0yVNx9"
      },
      "source": [
        "Memória\n",
        "\n",
        "Memória disponível no ambiente"
      ]
    },
    {
      "cell_type": "code",
      "metadata": {
        "id": "1iC5-pSAVh7_",
        "colab": {
          "base_uri": "https://localhost:8080/"
        },
        "outputId": "dec411c3-5cde-4557-fa85-0c043ccde100"
      },
      "source": [
        "# Importando as bibliotecas.\n",
        "from psutil import virtual_memory\n",
        "\n",
        "ram_gb = virtual_memory().total / 1e9\n",
        "logging.info(\"Seu ambiente de execução tem {: .1f} gigabytes de RAM disponível\\n\".format(ram_gb))\n",
        "\n",
        "if ram_gb < 20:\n",
        "  logging.info(\"Para habilitar um tempo de execução de RAM alta, selecione menu o ambiente de execução> \\\"Alterar tipo de tempo de execução\\\"\")\n",
        "  logging.info(\"e selecione High-RAM. Então, execute novamente está célula\")\n",
        "else:\n",
        "  logging.info(\"Você está usando um ambiente de execução de memória RAM alta!\")"
      ],
      "execution_count": 12,
      "outputs": [
        {
          "output_type": "stream",
          "name": "stderr",
          "text": [
            "INFO:root:Seu ambiente de execução tem  13.6 gigabytes de RAM disponível\n",
            "\n",
            "INFO:root:Para habilitar um tempo de execução de RAM alta, selecione menu o ambiente de execução> \"Alterar tipo de tempo de execução\"\n",
            "INFO:root:e selecione High-RAM. Então, execute novamente está célula\n"
          ]
        }
      ]
    },
    {
      "cell_type": "markdown",
      "metadata": {
        "id": "wijMXooQQLcQ"
      },
      "source": [
        "## 1.6 Monta uma pasta no google drive para carregar os arquivos de dados."
      ]
    },
    {
      "cell_type": "code",
      "metadata": {
        "id": "ysnDDapMQK8K",
        "colab": {
          "base_uri": "https://localhost:8080/"
        },
        "outputId": "266238e9-6e87-4685-c3c0-16f767e153f5"
      },
      "source": [
        "# import necessário\n",
        "from google.colab import drive\n",
        "\n",
        "# Monta o drive na pasta especificada\n",
        "drive.mount(\"/content/drive\")     "
      ],
      "execution_count": 13,
      "outputs": [
        {
          "output_type": "stream",
          "name": "stdout",
          "text": [
            "Mounted at /content/drive\n"
          ]
        }
      ]
    },
    {
      "cell_type": "markdown",
      "metadata": {
        "id": "J0LeiOTx0Dlk"
      },
      "source": [
        "## 1.7 Instalação do spaCy\n",
        "\n",
        "https://spacy.io/\n",
        "\n",
        "Modelos do spaCy para português:\n",
        "https://spacy.io/models/pt"
      ]
    },
    {
      "cell_type": "code",
      "metadata": {
        "id": "EaMM4WdxgvQ7",
        "colab": {
          "base_uri": "https://localhost:8080/"
        },
        "outputId": "d3c29949-bcaa-44b4-c3cd-235fdc03ca81"
      },
      "source": [
        "# Instala dependências do spacy\n",
        "!pip install -U pip setuptools wheel"
      ],
      "execution_count": 14,
      "outputs": [
        {
          "output_type": "stream",
          "name": "stdout",
          "text": [
            "Looking in indexes: https://pypi.org/simple, https://us-python.pkg.dev/colab-wheels/public/simple/\n",
            "Requirement already satisfied: pip in /usr/local/lib/python3.8/dist-packages (22.0.4)\n",
            "Collecting pip\n",
            "  Downloading pip-23.0.1-py3-none-any.whl (2.1 MB)\n",
            "\u001b[2K     \u001b[90m━━━━━━━━━━━━━━━━━━━━━━━━━━━━━━━━━━━━━━━━\u001b[0m \u001b[32m2.1/2.1 MB\u001b[0m \u001b[31m22.4 MB/s\u001b[0m eta \u001b[36m0:00:00\u001b[0m\n",
            "\u001b[?25hRequirement already satisfied: setuptools in /usr/local/lib/python3.8/dist-packages (57.4.0)\n",
            "Collecting setuptools\n",
            "  Downloading setuptools-67.5.1-py3-none-any.whl (1.1 MB)\n",
            "\u001b[2K     \u001b[90m━━━━━━━━━━━━━━━━━━━━━━━━━━━━━━━━━━━━━━━━\u001b[0m \u001b[32m1.1/1.1 MB\u001b[0m \u001b[31m46.5 MB/s\u001b[0m eta \u001b[36m0:00:00\u001b[0m\n",
            "\u001b[?25hRequirement already satisfied: wheel in /usr/local/lib/python3.8/dist-packages (0.38.4)\n",
            "Installing collected packages: setuptools, pip\n",
            "  Attempting uninstall: setuptools\n",
            "    Found existing installation: setuptools 57.4.0\n",
            "    Uninstalling setuptools-57.4.0:\n",
            "      Successfully uninstalled setuptools-57.4.0\n",
            "  Attempting uninstall: pip\n",
            "    Found existing installation: pip 22.0.4\n",
            "    Uninstalling pip-22.0.4:\n",
            "      Successfully uninstalled pip-22.0.4\n",
            "\u001b[31mERROR: pip's dependency resolver does not currently take into account all the packages that are installed. This behaviour is the source of the following dependency conflicts.\n",
            "ipython 7.9.0 requires jedi>=0.10, which is not installed.\n",
            "cvxpy 1.2.3 requires setuptools<=64.0.2, but you have setuptools 67.5.1 which is incompatible.\u001b[0m\u001b[31m\n",
            "\u001b[0mSuccessfully installed pip-23.0.1 setuptools-67.5.1\n"
          ]
        }
      ]
    },
    {
      "cell_type": "code",
      "metadata": {
        "id": "w4p3Rz2qDq94",
        "colab": {
          "base_uri": "https://localhost:8080/"
        },
        "outputId": "0b055b08-694e-4cfe-c815-5716e3dde317"
      },
      "source": [
        "# Instala uma versão específica\n",
        "!pip install -U spacy==3.4.4"
      ],
      "execution_count": 15,
      "outputs": [
        {
          "output_type": "stream",
          "name": "stdout",
          "text": [
            "Looking in indexes: https://pypi.org/simple, https://us-python.pkg.dev/colab-wheels/public/simple/\n",
            "Requirement already satisfied: spacy==3.4.4 in /usr/local/lib/python3.8/dist-packages (3.4.4)\n",
            "Requirement already satisfied: typer<0.8.0,>=0.3.0 in /usr/local/lib/python3.8/dist-packages (from spacy==3.4.4) (0.7.0)\n",
            "Requirement already satisfied: numpy>=1.15.0 in /usr/local/lib/python3.8/dist-packages (from spacy==3.4.4) (1.22.4)\n",
            "Requirement already satisfied: requests<3.0.0,>=2.13.0 in /usr/local/lib/python3.8/dist-packages (from spacy==3.4.4) (2.25.1)\n",
            "Requirement already satisfied: tqdm<5.0.0,>=4.38.0 in /usr/local/lib/python3.8/dist-packages (from spacy==3.4.4) (4.64.1)\n",
            "Requirement already satisfied: cymem<2.1.0,>=2.0.2 in /usr/local/lib/python3.8/dist-packages (from spacy==3.4.4) (2.0.7)\n",
            "Requirement already satisfied: jinja2 in /usr/local/lib/python3.8/dist-packages (from spacy==3.4.4) (3.1.2)\n",
            "Requirement already satisfied: thinc<8.2.0,>=8.1.0 in /usr/local/lib/python3.8/dist-packages (from spacy==3.4.4) (8.1.7)\n",
            "Requirement already satisfied: srsly<3.0.0,>=2.4.3 in /usr/local/lib/python3.8/dist-packages (from spacy==3.4.4) (2.4.6)\n",
            "Requirement already satisfied: langcodes<4.0.0,>=3.2.0 in /usr/local/lib/python3.8/dist-packages (from spacy==3.4.4) (3.3.0)\n",
            "Requirement already satisfied: preshed<3.1.0,>=3.0.2 in /usr/local/lib/python3.8/dist-packages (from spacy==3.4.4) (3.0.8)\n",
            "Requirement already satisfied: smart-open<7.0.0,>=5.2.1 in /usr/local/lib/python3.8/dist-packages (from spacy==3.4.4) (6.3.0)\n",
            "Requirement already satisfied: murmurhash<1.1.0,>=0.28.0 in /usr/local/lib/python3.8/dist-packages (from spacy==3.4.4) (1.0.9)\n",
            "Requirement already satisfied: pathy>=0.3.5 in /usr/local/lib/python3.8/dist-packages (from spacy==3.4.4) (0.10.1)\n",
            "Requirement already satisfied: catalogue<2.1.0,>=2.0.6 in /usr/local/lib/python3.8/dist-packages (from spacy==3.4.4) (2.0.8)\n",
            "Requirement already satisfied: spacy-loggers<2.0.0,>=1.0.0 in /usr/local/lib/python3.8/dist-packages (from spacy==3.4.4) (1.0.4)\n",
            "Requirement already satisfied: wasabi<1.1.0,>=0.9.1 in /usr/local/lib/python3.8/dist-packages (from spacy==3.4.4) (0.10.1)\n",
            "Requirement already satisfied: packaging>=20.0 in /usr/local/lib/python3.8/dist-packages (from spacy==3.4.4) (23.0)\n",
            "Requirement already satisfied: spacy-legacy<3.1.0,>=3.0.10 in /usr/local/lib/python3.8/dist-packages (from spacy==3.4.4) (3.0.12)\n",
            "Requirement already satisfied: pydantic!=1.8,!=1.8.1,<1.11.0,>=1.7.4 in /usr/local/lib/python3.8/dist-packages (from spacy==3.4.4) (1.10.5)\n",
            "Requirement already satisfied: setuptools in /usr/local/lib/python3.8/dist-packages (from spacy==3.4.4) (67.5.1)\n",
            "Requirement already satisfied: typing-extensions>=4.2.0 in /usr/local/lib/python3.8/dist-packages (from pydantic!=1.8,!=1.8.1,<1.11.0,>=1.7.4->spacy==3.4.4) (4.5.0)\n",
            "Requirement already satisfied: urllib3<1.27,>=1.21.1 in /usr/local/lib/python3.8/dist-packages (from requests<3.0.0,>=2.13.0->spacy==3.4.4) (1.26.14)\n",
            "Requirement already satisfied: idna<3,>=2.5 in /usr/local/lib/python3.8/dist-packages (from requests<3.0.0,>=2.13.0->spacy==3.4.4) (2.10)\n",
            "Requirement already satisfied: certifi>=2017.4.17 in /usr/local/lib/python3.8/dist-packages (from requests<3.0.0,>=2.13.0->spacy==3.4.4) (2022.12.7)\n",
            "Requirement already satisfied: chardet<5,>=3.0.2 in /usr/local/lib/python3.8/dist-packages (from requests<3.0.0,>=2.13.0->spacy==3.4.4) (4.0.0)\n",
            "Requirement already satisfied: confection<1.0.0,>=0.0.1 in /usr/local/lib/python3.8/dist-packages (from thinc<8.2.0,>=8.1.0->spacy==3.4.4) (0.0.4)\n",
            "Requirement already satisfied: blis<0.8.0,>=0.7.8 in /usr/local/lib/python3.8/dist-packages (from thinc<8.2.0,>=8.1.0->spacy==3.4.4) (0.7.9)\n",
            "Requirement already satisfied: click<9.0.0,>=7.1.1 in /usr/local/lib/python3.8/dist-packages (from typer<0.8.0,>=0.3.0->spacy==3.4.4) (8.1.3)\n",
            "Requirement already satisfied: MarkupSafe>=2.0 in /usr/local/lib/python3.8/dist-packages (from jinja2->spacy==3.4.4) (2.1.2)\n",
            "\u001b[33mWARNING: Running pip as the 'root' user can result in broken permissions and conflicting behaviour with the system package manager. It is recommended to use a virtual environment instead: https://pip.pypa.io/warnings/venv\u001b[0m\u001b[33m\n",
            "\u001b[0m"
          ]
        }
      ]
    },
    {
      "cell_type": "markdown",
      "metadata": {
        "id": "8bGda5JgMtQe"
      },
      "source": [
        "# 2 Parametrização"
      ]
    },
    {
      "cell_type": "markdown",
      "source": [
        "## Gerais"
      ],
      "metadata": {
        "id": "ifrYNTwGwKal"
      }
    },
    {
      "cell_type": "code",
      "source": [
        "# Definição dos parâmetros a serem avaliados"
      ],
      "metadata": {
        "id": "5uiH9pNpwI6g"
      },
      "execution_count": 16,
      "outputs": []
    },
    {
      "cell_type": "markdown",
      "source": [
        "## Específicos"
      ],
      "metadata": {
        "id": "mhByVujAwNAU"
      }
    },
    {
      "cell_type": "markdown",
      "source": [
        "Parâmetros do modelo"
      ],
      "metadata": {
        "id": "Mhkc9sW21zV7"
      }
    },
    {
      "cell_type": "code",
      "metadata": {
        "id": "oJ15-ylRRRdD"
      },
      "source": [
        "# Definição dos parâmetros do Modelo.\n",
        "model_args = ModelosParametros(     \n",
        "\n",
        "    #modelo_spacy = \"en_core_web_lg\",\n",
        "    #modelo_spacy = \"en_core_web_md\",\n",
        "    #modelo_spacy = \"en_core_web_sm\",\n",
        "    modelo_spacy = \"pt_core_news_lg\",\n",
        "    #modelo_spacy = \"pt_core_news_md\",\n",
        "    #modelo_spacy = \"pt_core_news_sm\",\n",
        "        \n",
        ")"
      ],
      "execution_count": 17,
      "outputs": []
    },
    {
      "cell_type": "markdown",
      "source": [
        "## Nome do diretório dos arquivos de dados"
      ],
      "metadata": {
        "id": "BLOqjcIzImVo"
      }
    },
    {
      "cell_type": "code",
      "source": [
        "# Diretório do notebook\n",
        "DIRETORIO_NOTEBOOK = \"SRI\""
      ],
      "metadata": {
        "id": "xJEiTPnKImVp"
      },
      "execution_count": 18,
      "outputs": []
    },
    {
      "cell_type": "markdown",
      "metadata": {
        "id": "SUxlx7Sx4yxj"
      },
      "source": [
        "## Define o caminho para os arquivos de dados"
      ]
    },
    {
      "cell_type": "code",
      "execution_count": 19,
      "metadata": {
        "id": "-gQpxAO74yxj"
      },
      "outputs": [],
      "source": [
        "# Diretório local para os arquivos de dados\n",
        "DIRETORIO_LOCAL = \"/content/\" + DIRETORIO_NOTEBOOK + \"/\"\n",
        "\n",
        "# Diretório no google drive com os arquivos de dados\n",
        "DIRETORIO_DRIVE = \"/content/drive/MyDrive/Colab Notebooks/\" + DIRETORIO_NOTEBOOK + \"/data/\""
      ]
    },
    {
      "cell_type": "markdown",
      "metadata": {
        "id": "L7G3-MOsQ1N_"
      },
      "source": [
        "# 3 spaCy"
      ]
    },
    {
      "cell_type": "markdown",
      "metadata": {
        "id": "vy8YnxBuJUxX"
      },
      "source": [
        "## 3.1 Download arquivo modelo\n",
        "\n",
        "Uso:\n",
        "https://spacy.io/usage\n",
        "\n",
        "Modelos:\n",
        "https://spacy.io/models"
      ]
    },
    {
      "cell_type": "code",
      "source": [
        "!python -m spacy download $model_args.modelo_spacy"
      ],
      "metadata": {
        "id": "_lqonzGcupXI",
        "outputId": "a66709ef-34e3-4f1d-9db1-341b46561573",
        "colab": {
          "base_uri": "https://localhost:8080/"
        }
      },
      "execution_count": 20,
      "outputs": [
        {
          "output_type": "stream",
          "name": "stdout",
          "text": [
            "/usr/local/lib/python3.8/dist-packages/torch/cuda/__init__.py:497: UserWarning: Can't initialize NVML\n",
            "  warnings.warn(\"Can't initialize NVML\")\n",
            "2023-03-07 16:58:25.865419: W tensorflow/compiler/xla/stream_executor/platform/default/dso_loader.cc:64] Could not load dynamic library 'libnvinfer.so.7'; dlerror: libnvinfer.so.7: cannot open shared object file: No such file or directory; LD_LIBRARY_PATH: /usr/local/nvidia/lib:/usr/local/nvidia/lib64\n",
            "2023-03-07 16:58:25.865554: W tensorflow/compiler/xla/stream_executor/platform/default/dso_loader.cc:64] Could not load dynamic library 'libnvinfer_plugin.so.7'; dlerror: libnvinfer_plugin.so.7: cannot open shared object file: No such file or directory; LD_LIBRARY_PATH: /usr/local/nvidia/lib:/usr/local/nvidia/lib64\n",
            "2023-03-07 16:58:25.865580: W tensorflow/compiler/tf2tensorrt/utils/py_utils.cc:38] TF-TRT Warning: Cannot dlopen some TensorRT libraries. If you would like to use Nvidia GPU with TensorRT, please make sure the missing libraries mentioned above are installed properly.\n",
            "2023-03-07 16:58:27.621157: E tensorflow/compiler/xla/stream_executor/cuda/cuda_driver.cc:267] failed call to cuInit: CUDA_ERROR_NO_DEVICE: no CUDA-capable device is detected\n",
            "Looking in indexes: https://pypi.org/simple, https://us-python.pkg.dev/colab-wheels/public/simple/\n",
            "Collecting pt-core-news-lg==3.4.0\n",
            "  Downloading https://github.com/explosion/spacy-models/releases/download/pt_core_news_lg-3.4.0/pt_core_news_lg-3.4.0-py3-none-any.whl (568.2 MB)\n",
            "\u001b[2K     \u001b[90m━━━━━━━━━━━━━━━━━━━━━━━━━━━━━━━━━━━━━━━\u001b[0m \u001b[32m568.2/568.2 MB\u001b[0m \u001b[31m2.4 MB/s\u001b[0m eta \u001b[36m0:00:00\u001b[0m\n",
            "\u001b[?25hRequirement already satisfied: spacy<3.5.0,>=3.4.0 in /usr/local/lib/python3.8/dist-packages (from pt-core-news-lg==3.4.0) (3.4.4)\n",
            "Requirement already satisfied: numpy>=1.15.0 in /usr/local/lib/python3.8/dist-packages (from spacy<3.5.0,>=3.4.0->pt-core-news-lg==3.4.0) (1.22.4)\n",
            "Requirement already satisfied: jinja2 in /usr/local/lib/python3.8/dist-packages (from spacy<3.5.0,>=3.4.0->pt-core-news-lg==3.4.0) (3.1.2)\n",
            "Requirement already satisfied: pydantic!=1.8,!=1.8.1,<1.11.0,>=1.7.4 in /usr/local/lib/python3.8/dist-packages (from spacy<3.5.0,>=3.4.0->pt-core-news-lg==3.4.0) (1.10.5)\n",
            "Requirement already satisfied: spacy-legacy<3.1.0,>=3.0.10 in /usr/local/lib/python3.8/dist-packages (from spacy<3.5.0,>=3.4.0->pt-core-news-lg==3.4.0) (3.0.12)\n",
            "Requirement already satisfied: packaging>=20.0 in /usr/local/lib/python3.8/dist-packages (from spacy<3.5.0,>=3.4.0->pt-core-news-lg==3.4.0) (23.0)\n",
            "Requirement already satisfied: typer<0.8.0,>=0.3.0 in /usr/local/lib/python3.8/dist-packages (from spacy<3.5.0,>=3.4.0->pt-core-news-lg==3.4.0) (0.7.0)\n",
            "Requirement already satisfied: pathy>=0.3.5 in /usr/local/lib/python3.8/dist-packages (from spacy<3.5.0,>=3.4.0->pt-core-news-lg==3.4.0) (0.10.1)\n",
            "Requirement already satisfied: thinc<8.2.0,>=8.1.0 in /usr/local/lib/python3.8/dist-packages (from spacy<3.5.0,>=3.4.0->pt-core-news-lg==3.4.0) (8.1.7)\n",
            "Requirement already satisfied: setuptools in /usr/local/lib/python3.8/dist-packages (from spacy<3.5.0,>=3.4.0->pt-core-news-lg==3.4.0) (67.5.1)\n",
            "Requirement already satisfied: cymem<2.1.0,>=2.0.2 in /usr/local/lib/python3.8/dist-packages (from spacy<3.5.0,>=3.4.0->pt-core-news-lg==3.4.0) (2.0.7)\n",
            "Requirement already satisfied: murmurhash<1.1.0,>=0.28.0 in /usr/local/lib/python3.8/dist-packages (from spacy<3.5.0,>=3.4.0->pt-core-news-lg==3.4.0) (1.0.9)\n",
            "Requirement already satisfied: langcodes<4.0.0,>=3.2.0 in /usr/local/lib/python3.8/dist-packages (from spacy<3.5.0,>=3.4.0->pt-core-news-lg==3.4.0) (3.3.0)\n",
            "Requirement already satisfied: requests<3.0.0,>=2.13.0 in /usr/local/lib/python3.8/dist-packages (from spacy<3.5.0,>=3.4.0->pt-core-news-lg==3.4.0) (2.25.1)\n",
            "Requirement already satisfied: tqdm<5.0.0,>=4.38.0 in /usr/local/lib/python3.8/dist-packages (from spacy<3.5.0,>=3.4.0->pt-core-news-lg==3.4.0) (4.64.1)\n",
            "Requirement already satisfied: preshed<3.1.0,>=3.0.2 in /usr/local/lib/python3.8/dist-packages (from spacy<3.5.0,>=3.4.0->pt-core-news-lg==3.4.0) (3.0.8)\n",
            "Requirement already satisfied: smart-open<7.0.0,>=5.2.1 in /usr/local/lib/python3.8/dist-packages (from spacy<3.5.0,>=3.4.0->pt-core-news-lg==3.4.0) (6.3.0)\n",
            "Requirement already satisfied: srsly<3.0.0,>=2.4.3 in /usr/local/lib/python3.8/dist-packages (from spacy<3.5.0,>=3.4.0->pt-core-news-lg==3.4.0) (2.4.6)\n",
            "Requirement already satisfied: spacy-loggers<2.0.0,>=1.0.0 in /usr/local/lib/python3.8/dist-packages (from spacy<3.5.0,>=3.4.0->pt-core-news-lg==3.4.0) (1.0.4)\n",
            "Requirement already satisfied: catalogue<2.1.0,>=2.0.6 in /usr/local/lib/python3.8/dist-packages (from spacy<3.5.0,>=3.4.0->pt-core-news-lg==3.4.0) (2.0.8)\n",
            "Requirement already satisfied: wasabi<1.1.0,>=0.9.1 in /usr/local/lib/python3.8/dist-packages (from spacy<3.5.0,>=3.4.0->pt-core-news-lg==3.4.0) (0.10.1)\n",
            "Requirement already satisfied: typing-extensions>=4.2.0 in /usr/local/lib/python3.8/dist-packages (from pydantic!=1.8,!=1.8.1,<1.11.0,>=1.7.4->spacy<3.5.0,>=3.4.0->pt-core-news-lg==3.4.0) (4.5.0)\n",
            "Requirement already satisfied: idna<3,>=2.5 in /usr/local/lib/python3.8/dist-packages (from requests<3.0.0,>=2.13.0->spacy<3.5.0,>=3.4.0->pt-core-news-lg==3.4.0) (2.10)\n",
            "Requirement already satisfied: certifi>=2017.4.17 in /usr/local/lib/python3.8/dist-packages (from requests<3.0.0,>=2.13.0->spacy<3.5.0,>=3.4.0->pt-core-news-lg==3.4.0) (2022.12.7)\n",
            "Requirement already satisfied: urllib3<1.27,>=1.21.1 in /usr/local/lib/python3.8/dist-packages (from requests<3.0.0,>=2.13.0->spacy<3.5.0,>=3.4.0->pt-core-news-lg==3.4.0) (1.26.14)\n",
            "Requirement already satisfied: chardet<5,>=3.0.2 in /usr/local/lib/python3.8/dist-packages (from requests<3.0.0,>=2.13.0->spacy<3.5.0,>=3.4.0->pt-core-news-lg==3.4.0) (4.0.0)\n",
            "Requirement already satisfied: blis<0.8.0,>=0.7.8 in /usr/local/lib/python3.8/dist-packages (from thinc<8.2.0,>=8.1.0->spacy<3.5.0,>=3.4.0->pt-core-news-lg==3.4.0) (0.7.9)\n",
            "Requirement already satisfied: confection<1.0.0,>=0.0.1 in /usr/local/lib/python3.8/dist-packages (from thinc<8.2.0,>=8.1.0->spacy<3.5.0,>=3.4.0->pt-core-news-lg==3.4.0) (0.0.4)\n",
            "Requirement already satisfied: click<9.0.0,>=7.1.1 in /usr/local/lib/python3.8/dist-packages (from typer<0.8.0,>=0.3.0->spacy<3.5.0,>=3.4.0->pt-core-news-lg==3.4.0) (8.1.3)\n",
            "Requirement already satisfied: MarkupSafe>=2.0 in /usr/local/lib/python3.8/dist-packages (from jinja2->spacy<3.5.0,>=3.4.0->pt-core-news-lg==3.4.0) (2.1.2)\n",
            "Installing collected packages: pt-core-news-lg\n",
            "Successfully installed pt-core-news-lg-3.4.0\n",
            "\u001b[33mWARNING: Running pip as the 'root' user can result in broken permissions and conflicting behaviour with the system package manager. It is recommended to use a virtual environment instead: https://pip.pypa.io/warnings/venv\u001b[0m\u001b[33m\n",
            "\u001b[0m\u001b[38;5;2m✔ Download and installation successful\u001b[0m\n",
            "You can now load the package via spacy.load('pt_core_news_lg')\n"
          ]
        }
      ]
    },
    {
      "cell_type": "markdown",
      "metadata": {
        "id": "1WuWxxBDJUxX"
      },
      "source": [
        "## 3.2 Carrega o modelo"
      ]
    },
    {
      "cell_type": "code",
      "source": [
        "# Import das bibliotecas.\n",
        "import spacy # Biblioteca do spaCy\n",
        "\n",
        "nlp = spacy.load(model_args.modelo_spacy)"
      ],
      "metadata": {
        "id": "6boQJOwotxhH",
        "outputId": "b3c99d66-4393-4795-f39f-54507bd3330e",
        "colab": {
          "base_uri": "https://localhost:8080/"
        }
      },
      "execution_count": 21,
      "outputs": [
        {
          "output_type": "stream",
          "name": "stderr",
          "text": [
            "/usr/local/lib/python3.8/dist-packages/torch/cuda/__init__.py:497: UserWarning: Can't initialize NVML\n",
            "  warnings.warn(\"Can't initialize NVML\")\n"
          ]
        }
      ]
    },
    {
      "cell_type": "markdown",
      "source": [
        "# 4 Reconhecendo entidades nomeadas"
      ],
      "metadata": {
        "id": "k95Dva-ak1bu"
      }
    },
    {
      "cell_type": "markdown",
      "metadata": {
        "id": "oQUy9Tat2EF_"
      },
      "source": [
        "## 4.1 Carregamento do Dataset e PoS-Tagging"
      ]
    },
    {
      "cell_type": "markdown",
      "metadata": {
        "id": "bD_tNbBGPrnE"
      },
      "source": [
        "### 4.1.1 Especifica os nomes dos arquivos de dados\n",
        "\n"
      ]
    },
    {
      "cell_type": "code",
      "metadata": {
        "id": "bNgwJRC2uGJb"
      },
      "source": [
        "# Nome do arquivo\n",
        "NOME_ARQUIVO_DATASET = \"dataset.csv\"\n",
        "NOME_ARQUIVO_DATASET_COMPACTADO = \"dataset.zip\"\n",
        "NOME_ARQUIVO_DATASET_POS = \"datasetpos.csv\"\n",
        "NOME_ARQUIVO_DATASET_POS_COMPACTADO = \"datasetpos.zip\""
      ],
      "execution_count": 22,
      "outputs": []
    },
    {
      "cell_type": "markdown",
      "source": [
        "### 4.1.2 Cria o diretório local para receber os dados"
      ],
      "metadata": {
        "id": "I0LsmsBlJeeV"
      }
    },
    {
      "cell_type": "code",
      "metadata": {
        "id": "gFYIHcIHE985",
        "colab": {
          "base_uri": "https://localhost:8080/"
        },
        "outputId": "72819f8a-2df4-4bdd-b384-b8a440cde7c1"
      },
      "source": [
        "# Importando as bibliotecas.\n",
        "import os\n",
        "\n",
        "# Cria o diretório para receber os arquivos Originais e Permutados\n",
        "# Diretório a ser criado\n",
        "dirbase = DIRETORIO_LOCAL[:-1]\n",
        "\n",
        "if not os.path.exists(dirbase):  \n",
        "    # Cria o diretório\n",
        "    os.makedirs(dirbase)    \n",
        "    logging.info(\"Diretório criado: {}\".format(dirbase))\n",
        "else:    \n",
        "    logging.info(\"Diretório já existe: {}\".format(dirbase))"
      ],
      "execution_count": 23,
      "outputs": [
        {
          "output_type": "stream",
          "name": "stderr",
          "text": [
            "INFO:root:Diretório criado: /content/SRI\n"
          ]
        }
      ]
    },
    {
      "cell_type": "markdown",
      "metadata": {
        "id": "D8A9syejCsD2"
      },
      "source": [
        "### 4.1.3 Copia e descompacta os arquivos do Google Drive para o Colaboratory"
      ]
    },
    {
      "cell_type": "code",
      "metadata": {
        "id": "pviuxToMCxQw",
        "colab": {
          "base_uri": "https://localhost:8080/"
        },
        "outputId": "806ceba1-bfad-4099-9057-5ea0add08572"
      },
      "source": [
        "# Se estiver executando no Google Colaboratory\n",
        "if IN_COLAB:\n",
        "\n",
        "  !cp \"$DIRETORIO_DRIVE$NOME_ARQUIVO_DATASET_COMPACTADO\" \"$DIRETORIO_LOCAL\"\n",
        "  !cp \"$DIRETORIO_DRIVE$NOME_ARQUIVO_DATASET_POS_COMPACTADO\" \"$DIRETORIO_LOCAL\"\n",
        "\n",
        "  logging.info(\"Terminei a cópia.\")"
      ],
      "execution_count": 24,
      "outputs": [
        {
          "output_type": "stream",
          "name": "stderr",
          "text": [
            "INFO:root:Terminei a cópia.\n"
          ]
        }
      ]
    },
    {
      "cell_type": "markdown",
      "metadata": {
        "id": "rFCvZ6CUmt-9"
      },
      "source": [
        "Descompacta os arquivos.\n",
        "\n",
        "Usa o unzip para descompactar:\n",
        "*   `-o` sobrescreve o arquivo se existir\n",
        "*   `-j` Não cria nenhum diretório\n",
        "*   `-q` Desliga as mensagens \n",
        "*   `-d` Diretório de destino\n"
      ]
    },
    {
      "cell_type": "code",
      "metadata": {
        "id": "dbHl3d88mouc",
        "colab": {
          "base_uri": "https://localhost:8080/"
        },
        "outputId": "43005367-bf9c-4aaa-ec60-ff9aaaa9b82f"
      },
      "source": [
        "# Se estiver executando no Google Colaboratory\n",
        "if IN_COLAB:\n",
        "  !unzip -o -j -q \"$DIRETORIO_LOCAL$NOME_ARQUIVO_DATASET_COMPACTADO\" -d \"$DIRETORIO_LOCAL\"\n",
        "  !unzip -o -j -q \"$DIRETORIO_LOCAL$NOME_ARQUIVO_DATASET_POS_COMPACTADO\" -d \"$DIRETORIO_LOCAL\"\n",
        "\n",
        "  logging.info(\"Terminei a descompactação.\")"
      ],
      "execution_count": 25,
      "outputs": [
        {
          "output_type": "stream",
          "name": "stderr",
          "text": [
            "INFO:root:Terminei a descompactação.\n"
          ]
        }
      ]
    },
    {
      "cell_type": "markdown",
      "metadata": {
        "id": "qzhYJNWJm1z4"
      },
      "source": [
        "### 4.1.4 Carregamento das lista com os dados dos arquivos e postagging"
      ]
    },
    {
      "cell_type": "markdown",
      "metadata": {
        "id": "Usr1uRzQeJSb"
      },
      "source": [
        "#### Carrega o arquivo dos dados e POS"
      ]
    },
    {
      "cell_type": "code",
      "metadata": {
        "id": "QRHlixdHEDTb",
        "colab": {
          "base_uri": "https://localhost:8080/"
        },
        "outputId": "49111146-73bc-4a47-d954-ce8bb1974cc2"
      },
      "source": [
        "# Import das bibliotecas.\n",
        "import pandas as pd\n",
        "\n",
        "# Abre o arquivo e retorna o DataFrame\n",
        "df_dataset = pd.read_csv(DIRETORIO_LOCAL + NOME_ARQUIVO_DATASET, sep=\";\", encoding=\"UTF-8\")\n",
        "df_dataset_pos = pd.read_csv(DIRETORIO_LOCAL + NOME_ARQUIVO_DATASET_POS, sep=\";\", encoding=\"UTF-8\")\n",
        "\n",
        "logging.info(\"TERMINADO DOCUMENTOS: {}.\".format(len(df_dataset)))\n",
        "logging.info(\"TERMINADO DOCUMENTOS POS: {}.\".format(len(df_dataset_pos)))"
      ],
      "execution_count": 26,
      "outputs": [
        {
          "output_type": "stream",
          "name": "stderr",
          "text": [
            "INFO:root:TERMINADO DOCUMENTOS: 20.\n",
            "INFO:root:TERMINADO DOCUMENTOS POS: 20.\n"
          ]
        }
      ]
    },
    {
      "cell_type": "code",
      "metadata": {
        "id": "jJ5STBZPLlie",
        "colab": {
          "base_uri": "https://localhost:8080/",
          "height": 206
        },
        "outputId": "4abc1030-86fe-46db-c288-7341723022c8"
      },
      "source": [
        "df_dataset.sample(5)"
      ],
      "execution_count": 27,
      "outputs": [
        {
          "output_type": "execute_result",
          "data": {
            "text/plain": [
              "    id                                          sentencas  \\\n",
              "2    3  ['O ministro da Defesa, Nelson Jobim, informou...   \n",
              "9   10  [\"Quinze voluntários da ONG francesa 'Ação Con...   \n",
              "6    7  ['A aviação israelense atacou 150 alvos na mad...   \n",
              "15  16  ['O Brasil lavou a alma após o decepcionante e...   \n",
              "7    8  ['A cidade de São Paulo e alguns municípios do...   \n",
              "\n",
              "                                            documento  \n",
              "2   O ministro da Defesa, Nelson Jobim, informou n...  \n",
              "9   Quinze voluntários da ONG francesa 'Ação Contr...  \n",
              "6   A aviação israelense atacou 150 alvos na madru...  \n",
              "15  O Brasil lavou a alma após o decepcionante emp...  \n",
              "7   A cidade de São Paulo e alguns municípios do i...  "
            ],
            "text/html": [
              "\n",
              "  <div id=\"df-e6a9ebd9-e95f-4a6e-b50d-87de3273ea1f\">\n",
              "    <div class=\"colab-df-container\">\n",
              "      <div>\n",
              "<style scoped>\n",
              "    .dataframe tbody tr th:only-of-type {\n",
              "        vertical-align: middle;\n",
              "    }\n",
              "\n",
              "    .dataframe tbody tr th {\n",
              "        vertical-align: top;\n",
              "    }\n",
              "\n",
              "    .dataframe thead th {\n",
              "        text-align: right;\n",
              "    }\n",
              "</style>\n",
              "<table border=\"1\" class=\"dataframe\">\n",
              "  <thead>\n",
              "    <tr style=\"text-align: right;\">\n",
              "      <th></th>\n",
              "      <th>id</th>\n",
              "      <th>sentencas</th>\n",
              "      <th>documento</th>\n",
              "    </tr>\n",
              "  </thead>\n",
              "  <tbody>\n",
              "    <tr>\n",
              "      <th>2</th>\n",
              "      <td>3</td>\n",
              "      <td>['O ministro da Defesa, Nelson Jobim, informou...</td>\n",
              "      <td>O ministro da Defesa, Nelson Jobim, informou n...</td>\n",
              "    </tr>\n",
              "    <tr>\n",
              "      <th>9</th>\n",
              "      <td>10</td>\n",
              "      <td>[\"Quinze voluntários da ONG francesa 'Ação Con...</td>\n",
              "      <td>Quinze voluntários da ONG francesa 'Ação Contr...</td>\n",
              "    </tr>\n",
              "    <tr>\n",
              "      <th>6</th>\n",
              "      <td>7</td>\n",
              "      <td>['A aviação israelense atacou 150 alvos na mad...</td>\n",
              "      <td>A aviação israelense atacou 150 alvos na madru...</td>\n",
              "    </tr>\n",
              "    <tr>\n",
              "      <th>15</th>\n",
              "      <td>16</td>\n",
              "      <td>['O Brasil lavou a alma após o decepcionante e...</td>\n",
              "      <td>O Brasil lavou a alma após o decepcionante emp...</td>\n",
              "    </tr>\n",
              "    <tr>\n",
              "      <th>7</th>\n",
              "      <td>8</td>\n",
              "      <td>['A cidade de São Paulo e alguns municípios do...</td>\n",
              "      <td>A cidade de São Paulo e alguns municípios do i...</td>\n",
              "    </tr>\n",
              "  </tbody>\n",
              "</table>\n",
              "</div>\n",
              "      <button class=\"colab-df-convert\" onclick=\"convertToInteractive('df-e6a9ebd9-e95f-4a6e-b50d-87de3273ea1f')\"\n",
              "              title=\"Convert this dataframe to an interactive table.\"\n",
              "              style=\"display:none;\">\n",
              "        \n",
              "  <svg xmlns=\"http://www.w3.org/2000/svg\" height=\"24px\"viewBox=\"0 0 24 24\"\n",
              "       width=\"24px\">\n",
              "    <path d=\"M0 0h24v24H0V0z\" fill=\"none\"/>\n",
              "    <path d=\"M18.56 5.44l.94 2.06.94-2.06 2.06-.94-2.06-.94-.94-2.06-.94 2.06-2.06.94zm-11 1L8.5 8.5l.94-2.06 2.06-.94-2.06-.94L8.5 2.5l-.94 2.06-2.06.94zm10 10l.94 2.06.94-2.06 2.06-.94-2.06-.94-.94-2.06-.94 2.06-2.06.94z\"/><path d=\"M17.41 7.96l-1.37-1.37c-.4-.4-.92-.59-1.43-.59-.52 0-1.04.2-1.43.59L10.3 9.45l-7.72 7.72c-.78.78-.78 2.05 0 2.83L4 21.41c.39.39.9.59 1.41.59.51 0 1.02-.2 1.41-.59l7.78-7.78 2.81-2.81c.8-.78.8-2.07 0-2.86zM5.41 20L4 18.59l7.72-7.72 1.47 1.35L5.41 20z\"/>\n",
              "  </svg>\n",
              "      </button>\n",
              "      \n",
              "  <style>\n",
              "    .colab-df-container {\n",
              "      display:flex;\n",
              "      flex-wrap:wrap;\n",
              "      gap: 12px;\n",
              "    }\n",
              "\n",
              "    .colab-df-convert {\n",
              "      background-color: #E8F0FE;\n",
              "      border: none;\n",
              "      border-radius: 50%;\n",
              "      cursor: pointer;\n",
              "      display: none;\n",
              "      fill: #1967D2;\n",
              "      height: 32px;\n",
              "      padding: 0 0 0 0;\n",
              "      width: 32px;\n",
              "    }\n",
              "\n",
              "    .colab-df-convert:hover {\n",
              "      background-color: #E2EBFA;\n",
              "      box-shadow: 0px 1px 2px rgba(60, 64, 67, 0.3), 0px 1px 3px 1px rgba(60, 64, 67, 0.15);\n",
              "      fill: #174EA6;\n",
              "    }\n",
              "\n",
              "    [theme=dark] .colab-df-convert {\n",
              "      background-color: #3B4455;\n",
              "      fill: #D2E3FC;\n",
              "    }\n",
              "\n",
              "    [theme=dark] .colab-df-convert:hover {\n",
              "      background-color: #434B5C;\n",
              "      box-shadow: 0px 1px 3px 1px rgba(0, 0, 0, 0.15);\n",
              "      filter: drop-shadow(0px 1px 2px rgba(0, 0, 0, 0.3));\n",
              "      fill: #FFFFFF;\n",
              "    }\n",
              "  </style>\n",
              "\n",
              "      <script>\n",
              "        const buttonEl =\n",
              "          document.querySelector('#df-e6a9ebd9-e95f-4a6e-b50d-87de3273ea1f button.colab-df-convert');\n",
              "        buttonEl.style.display =\n",
              "          google.colab.kernel.accessAllowed ? 'block' : 'none';\n",
              "\n",
              "        async function convertToInteractive(key) {\n",
              "          const element = document.querySelector('#df-e6a9ebd9-e95f-4a6e-b50d-87de3273ea1f');\n",
              "          const dataTable =\n",
              "            await google.colab.kernel.invokeFunction('convertToInteractive',\n",
              "                                                     [key], {});\n",
              "          if (!dataTable) return;\n",
              "\n",
              "          const docLinkHtml = 'Like what you see? Visit the ' +\n",
              "            '<a target=\"_blank\" href=https://colab.research.google.com/notebooks/data_table.ipynb>data table notebook</a>'\n",
              "            + ' to learn more about interactive tables.';\n",
              "          element.innerHTML = '';\n",
              "          dataTable['output_type'] = 'display_data';\n",
              "          await google.colab.output.renderOutput(dataTable, element);\n",
              "          const docLink = document.createElement('div');\n",
              "          docLink.innerHTML = docLinkHtml;\n",
              "          element.appendChild(docLink);\n",
              "        }\n",
              "      </script>\n",
              "    </div>\n",
              "  </div>\n",
              "  "
            ]
          },
          "metadata": {},
          "execution_count": 27
        }
      ]
    },
    {
      "cell_type": "code",
      "metadata": {
        "id": "4NVwIdXXDFn7",
        "colab": {
          "base_uri": "https://localhost:8080/",
          "height": 206
        },
        "outputId": "aa40243d-ac3f-46cc-8d77-d50067240680"
      },
      "source": [
        "df_dataset_pos.sample(5)"
      ],
      "execution_count": 28,
      "outputs": [
        {
          "output_type": "execute_result",
          "data": {
            "text/plain": [
              "    id                                      pos_documento\n",
              "16  17  [[['O', 'time', 'de', 'Bernardinho', 'derrotou...\n",
              "8    9  [[['Um', 'total', 'de', '549', 'pessoas', 'mor...\n",
              "4    5  [[['A', 'seleção', 'brasileira', 'masculina', ...\n",
              "15  16  [[['O', 'Brasil', 'lavou', 'a', 'alma', 'após'...\n",
              "19  20  [[['Dois', 'terremotos', 'atingiram', 'a', 're..."
            ],
            "text/html": [
              "\n",
              "  <div id=\"df-179c7438-3cb2-4e91-9ee7-a11c0734e11b\">\n",
              "    <div class=\"colab-df-container\">\n",
              "      <div>\n",
              "<style scoped>\n",
              "    .dataframe tbody tr th:only-of-type {\n",
              "        vertical-align: middle;\n",
              "    }\n",
              "\n",
              "    .dataframe tbody tr th {\n",
              "        vertical-align: top;\n",
              "    }\n",
              "\n",
              "    .dataframe thead th {\n",
              "        text-align: right;\n",
              "    }\n",
              "</style>\n",
              "<table border=\"1\" class=\"dataframe\">\n",
              "  <thead>\n",
              "    <tr style=\"text-align: right;\">\n",
              "      <th></th>\n",
              "      <th>id</th>\n",
              "      <th>pos_documento</th>\n",
              "    </tr>\n",
              "  </thead>\n",
              "  <tbody>\n",
              "    <tr>\n",
              "      <th>16</th>\n",
              "      <td>17</td>\n",
              "      <td>[[['O', 'time', 'de', 'Bernardinho', 'derrotou...</td>\n",
              "    </tr>\n",
              "    <tr>\n",
              "      <th>8</th>\n",
              "      <td>9</td>\n",
              "      <td>[[['Um', 'total', 'de', '549', 'pessoas', 'mor...</td>\n",
              "    </tr>\n",
              "    <tr>\n",
              "      <th>4</th>\n",
              "      <td>5</td>\n",
              "      <td>[[['A', 'seleção', 'brasileira', 'masculina', ...</td>\n",
              "    </tr>\n",
              "    <tr>\n",
              "      <th>15</th>\n",
              "      <td>16</td>\n",
              "      <td>[[['O', 'Brasil', 'lavou', 'a', 'alma', 'após'...</td>\n",
              "    </tr>\n",
              "    <tr>\n",
              "      <th>19</th>\n",
              "      <td>20</td>\n",
              "      <td>[[['Dois', 'terremotos', 'atingiram', 'a', 're...</td>\n",
              "    </tr>\n",
              "  </tbody>\n",
              "</table>\n",
              "</div>\n",
              "      <button class=\"colab-df-convert\" onclick=\"convertToInteractive('df-179c7438-3cb2-4e91-9ee7-a11c0734e11b')\"\n",
              "              title=\"Convert this dataframe to an interactive table.\"\n",
              "              style=\"display:none;\">\n",
              "        \n",
              "  <svg xmlns=\"http://www.w3.org/2000/svg\" height=\"24px\"viewBox=\"0 0 24 24\"\n",
              "       width=\"24px\">\n",
              "    <path d=\"M0 0h24v24H0V0z\" fill=\"none\"/>\n",
              "    <path d=\"M18.56 5.44l.94 2.06.94-2.06 2.06-.94-2.06-.94-.94-2.06-.94 2.06-2.06.94zm-11 1L8.5 8.5l.94-2.06 2.06-.94-2.06-.94L8.5 2.5l-.94 2.06-2.06.94zm10 10l.94 2.06.94-2.06 2.06-.94-2.06-.94-.94-2.06-.94 2.06-2.06.94z\"/><path d=\"M17.41 7.96l-1.37-1.37c-.4-.4-.92-.59-1.43-.59-.52 0-1.04.2-1.43.59L10.3 9.45l-7.72 7.72c-.78.78-.78 2.05 0 2.83L4 21.41c.39.39.9.59 1.41.59.51 0 1.02-.2 1.41-.59l7.78-7.78 2.81-2.81c.8-.78.8-2.07 0-2.86zM5.41 20L4 18.59l7.72-7.72 1.47 1.35L5.41 20z\"/>\n",
              "  </svg>\n",
              "      </button>\n",
              "      \n",
              "  <style>\n",
              "    .colab-df-container {\n",
              "      display:flex;\n",
              "      flex-wrap:wrap;\n",
              "      gap: 12px;\n",
              "    }\n",
              "\n",
              "    .colab-df-convert {\n",
              "      background-color: #E8F0FE;\n",
              "      border: none;\n",
              "      border-radius: 50%;\n",
              "      cursor: pointer;\n",
              "      display: none;\n",
              "      fill: #1967D2;\n",
              "      height: 32px;\n",
              "      padding: 0 0 0 0;\n",
              "      width: 32px;\n",
              "    }\n",
              "\n",
              "    .colab-df-convert:hover {\n",
              "      background-color: #E2EBFA;\n",
              "      box-shadow: 0px 1px 2px rgba(60, 64, 67, 0.3), 0px 1px 3px 1px rgba(60, 64, 67, 0.15);\n",
              "      fill: #174EA6;\n",
              "    }\n",
              "\n",
              "    [theme=dark] .colab-df-convert {\n",
              "      background-color: #3B4455;\n",
              "      fill: #D2E3FC;\n",
              "    }\n",
              "\n",
              "    [theme=dark] .colab-df-convert:hover {\n",
              "      background-color: #434B5C;\n",
              "      box-shadow: 0px 1px 3px 1px rgba(0, 0, 0, 0.15);\n",
              "      filter: drop-shadow(0px 1px 2px rgba(0, 0, 0, 0.3));\n",
              "      fill: #FFFFFF;\n",
              "    }\n",
              "  </style>\n",
              "\n",
              "      <script>\n",
              "        const buttonEl =\n",
              "          document.querySelector('#df-179c7438-3cb2-4e91-9ee7-a11c0734e11b button.colab-df-convert');\n",
              "        buttonEl.style.display =\n",
              "          google.colab.kernel.accessAllowed ? 'block' : 'none';\n",
              "\n",
              "        async function convertToInteractive(key) {\n",
              "          const element = document.querySelector('#df-179c7438-3cb2-4e91-9ee7-a11c0734e11b');\n",
              "          const dataTable =\n",
              "            await google.colab.kernel.invokeFunction('convertToInteractive',\n",
              "                                                     [key], {});\n",
              "          if (!dataTable) return;\n",
              "\n",
              "          const docLinkHtml = 'Like what you see? Visit the ' +\n",
              "            '<a target=\"_blank\" href=https://colab.research.google.com/notebooks/data_table.ipynb>data table notebook</a>'\n",
              "            + ' to learn more about interactive tables.';\n",
              "          element.innerHTML = '';\n",
              "          dataTable['output_type'] = 'display_data';\n",
              "          await google.colab.output.renderOutput(dataTable, element);\n",
              "          const docLink = document.createElement('div');\n",
              "          docLink.innerHTML = docLinkHtml;\n",
              "          element.appendChild(docLink);\n",
              "        }\n",
              "      </script>\n",
              "    </div>\n",
              "  </div>\n",
              "  "
            ]
          },
          "metadata": {},
          "execution_count": 28
        }
      ]
    },
    {
      "cell_type": "markdown",
      "source": [
        "#### Corrigir os tipos de colunas dos dados e POS\n",
        "\n",
        "Em lista documento:\n",
        "- coluna 1 - `sentenças` carregadas do arquivo vem como string e não como lista.\n",
        "\n",
        "Em lista pos:\n",
        "- coluna 1 - `pos_documento` carregadas do arquivo vem como string e não como lista."
      ],
      "metadata": {
        "id": "-hfUpvKqXoqe"
      }
    },
    {
      "cell_type": "code",
      "source": [
        "# Import das bibliotecas.\n",
        "import ast # Biblioteca para conversão de string em lista\n",
        "\n",
        "# Verifica se o tipo da coluna não é list e converte\n",
        "df_dataset[\"sentencas\"] = df_dataset[\"sentencas\"].apply(lambda x: ast.literal_eval(x) if type(x)!=list else x)\n",
        "\n",
        "df_dataset_pos[\"pos_documento\"] = df_dataset_pos[\"pos_documento\"].apply(lambda x: ast.literal_eval(x) if type(x)!=list else x)\n",
        "\n",
        "logging.info(\"TERMINADO CORREÇÃO DOCUMENTOS: {}.\".format(len(df_dataset)))\n",
        "logging.info(\"TERMINADO CORREÇÃO DOCUMENTOS POS: {}.\".format(len(df_dataset_pos)))"
      ],
      "metadata": {
        "id": "lj9sJVavMccj",
        "colab": {
          "base_uri": "https://localhost:8080/"
        },
        "outputId": "8e96da78-d9c5-4819-9907-9402b7cde221"
      },
      "execution_count": 29,
      "outputs": [
        {
          "output_type": "stream",
          "name": "stderr",
          "text": [
            "INFO:root:TERMINADO CORREÇÃO DOCUMENTOS: 20.\n",
            "INFO:root:TERMINADO CORREÇÃO DOCUMENTOS POS: 20.\n"
          ]
        }
      ]
    },
    {
      "cell_type": "markdown",
      "source": [
        "#### Criando dados indexados "
      ],
      "metadata": {
        "id": "8yyRt4jnYxsU"
      }
    },
    {
      "cell_type": "code",
      "source": [
        "# Expecifica o(s) campo(s) indexado(s) e faz uma cópia da lista indexada\n",
        "df_dataset_indexado = df_dataset.set_index([\"id\"])\n",
        "df_dataset_indexado.head()"
      ],
      "metadata": {
        "colab": {
          "base_uri": "https://localhost:8080/",
          "height": 238
        },
        "id": "B9INo4nBS8aQ",
        "outputId": "da192610-e59a-4e9c-b2e7-df91708dfe92"
      },
      "execution_count": 30,
      "outputs": [
        {
          "output_type": "execute_result",
          "data": {
            "text/plain": [
              "                                            sentencas  \\\n",
              "id                                                      \n",
              "1   [Depois de 20 dias de tempo seco, voltou a cho...   \n",
              "2   [Ao menos 17 pessoas morreram após a queda de ...   \n",
              "3   [O ministro da Defesa, Nelson Jobim, informou ...   \n",
              "4   [Usando telescópios do Observatório Europeu Su...   \n",
              "5   [A seleção brasileira masculina de vôlei, que ...   \n",
              "\n",
              "                                            documento  \n",
              "id                                                     \n",
              "1   Depois de 20 dias de tempo seco, voltou a chov...  \n",
              "2   Ao menos 17 pessoas morreram após a queda de u...  \n",
              "3   O ministro da Defesa, Nelson Jobim, informou n...  \n",
              "4   Usando telescópios do Observatório Europeu Sul...  \n",
              "5   A seleção brasileira masculina de vôlei, que é...  "
            ],
            "text/html": [
              "\n",
              "  <div id=\"df-4669270e-e7d8-4c55-88bd-409d702b179a\">\n",
              "    <div class=\"colab-df-container\">\n",
              "      <div>\n",
              "<style scoped>\n",
              "    .dataframe tbody tr th:only-of-type {\n",
              "        vertical-align: middle;\n",
              "    }\n",
              "\n",
              "    .dataframe tbody tr th {\n",
              "        vertical-align: top;\n",
              "    }\n",
              "\n",
              "    .dataframe thead th {\n",
              "        text-align: right;\n",
              "    }\n",
              "</style>\n",
              "<table border=\"1\" class=\"dataframe\">\n",
              "  <thead>\n",
              "    <tr style=\"text-align: right;\">\n",
              "      <th></th>\n",
              "      <th>sentencas</th>\n",
              "      <th>documento</th>\n",
              "    </tr>\n",
              "    <tr>\n",
              "      <th>id</th>\n",
              "      <th></th>\n",
              "      <th></th>\n",
              "    </tr>\n",
              "  </thead>\n",
              "  <tbody>\n",
              "    <tr>\n",
              "      <th>1</th>\n",
              "      <td>[Depois de 20 dias de tempo seco, voltou a cho...</td>\n",
              "      <td>Depois de 20 dias de tempo seco, voltou a chov...</td>\n",
              "    </tr>\n",
              "    <tr>\n",
              "      <th>2</th>\n",
              "      <td>[Ao menos 17 pessoas morreram após a queda de ...</td>\n",
              "      <td>Ao menos 17 pessoas morreram após a queda de u...</td>\n",
              "    </tr>\n",
              "    <tr>\n",
              "      <th>3</th>\n",
              "      <td>[O ministro da Defesa, Nelson Jobim, informou ...</td>\n",
              "      <td>O ministro da Defesa, Nelson Jobim, informou n...</td>\n",
              "    </tr>\n",
              "    <tr>\n",
              "      <th>4</th>\n",
              "      <td>[Usando telescópios do Observatório Europeu Su...</td>\n",
              "      <td>Usando telescópios do Observatório Europeu Sul...</td>\n",
              "    </tr>\n",
              "    <tr>\n",
              "      <th>5</th>\n",
              "      <td>[A seleção brasileira masculina de vôlei, que ...</td>\n",
              "      <td>A seleção brasileira masculina de vôlei, que é...</td>\n",
              "    </tr>\n",
              "  </tbody>\n",
              "</table>\n",
              "</div>\n",
              "      <button class=\"colab-df-convert\" onclick=\"convertToInteractive('df-4669270e-e7d8-4c55-88bd-409d702b179a')\"\n",
              "              title=\"Convert this dataframe to an interactive table.\"\n",
              "              style=\"display:none;\">\n",
              "        \n",
              "  <svg xmlns=\"http://www.w3.org/2000/svg\" height=\"24px\"viewBox=\"0 0 24 24\"\n",
              "       width=\"24px\">\n",
              "    <path d=\"M0 0h24v24H0V0z\" fill=\"none\"/>\n",
              "    <path d=\"M18.56 5.44l.94 2.06.94-2.06 2.06-.94-2.06-.94-.94-2.06-.94 2.06-2.06.94zm-11 1L8.5 8.5l.94-2.06 2.06-.94-2.06-.94L8.5 2.5l-.94 2.06-2.06.94zm10 10l.94 2.06.94-2.06 2.06-.94-2.06-.94-.94-2.06-.94 2.06-2.06.94z\"/><path d=\"M17.41 7.96l-1.37-1.37c-.4-.4-.92-.59-1.43-.59-.52 0-1.04.2-1.43.59L10.3 9.45l-7.72 7.72c-.78.78-.78 2.05 0 2.83L4 21.41c.39.39.9.59 1.41.59.51 0 1.02-.2 1.41-.59l7.78-7.78 2.81-2.81c.8-.78.8-2.07 0-2.86zM5.41 20L4 18.59l7.72-7.72 1.47 1.35L5.41 20z\"/>\n",
              "  </svg>\n",
              "      </button>\n",
              "      \n",
              "  <style>\n",
              "    .colab-df-container {\n",
              "      display:flex;\n",
              "      flex-wrap:wrap;\n",
              "      gap: 12px;\n",
              "    }\n",
              "\n",
              "    .colab-df-convert {\n",
              "      background-color: #E8F0FE;\n",
              "      border: none;\n",
              "      border-radius: 50%;\n",
              "      cursor: pointer;\n",
              "      display: none;\n",
              "      fill: #1967D2;\n",
              "      height: 32px;\n",
              "      padding: 0 0 0 0;\n",
              "      width: 32px;\n",
              "    }\n",
              "\n",
              "    .colab-df-convert:hover {\n",
              "      background-color: #E2EBFA;\n",
              "      box-shadow: 0px 1px 2px rgba(60, 64, 67, 0.3), 0px 1px 3px 1px rgba(60, 64, 67, 0.15);\n",
              "      fill: #174EA6;\n",
              "    }\n",
              "\n",
              "    [theme=dark] .colab-df-convert {\n",
              "      background-color: #3B4455;\n",
              "      fill: #D2E3FC;\n",
              "    }\n",
              "\n",
              "    [theme=dark] .colab-df-convert:hover {\n",
              "      background-color: #434B5C;\n",
              "      box-shadow: 0px 1px 3px 1px rgba(0, 0, 0, 0.15);\n",
              "      filter: drop-shadow(0px 1px 2px rgba(0, 0, 0, 0.3));\n",
              "      fill: #FFFFFF;\n",
              "    }\n",
              "  </style>\n",
              "\n",
              "      <script>\n",
              "        const buttonEl =\n",
              "          document.querySelector('#df-4669270e-e7d8-4c55-88bd-409d702b179a button.colab-df-convert');\n",
              "        buttonEl.style.display =\n",
              "          google.colab.kernel.accessAllowed ? 'block' : 'none';\n",
              "\n",
              "        async function convertToInteractive(key) {\n",
              "          const element = document.querySelector('#df-4669270e-e7d8-4c55-88bd-409d702b179a');\n",
              "          const dataTable =\n",
              "            await google.colab.kernel.invokeFunction('convertToInteractive',\n",
              "                                                     [key], {});\n",
              "          if (!dataTable) return;\n",
              "\n",
              "          const docLinkHtml = 'Like what you see? Visit the ' +\n",
              "            '<a target=\"_blank\" href=https://colab.research.google.com/notebooks/data_table.ipynb>data table notebook</a>'\n",
              "            + ' to learn more about interactive tables.';\n",
              "          element.innerHTML = '';\n",
              "          dataTable['output_type'] = 'display_data';\n",
              "          await google.colab.output.renderOutput(dataTable, element);\n",
              "          const docLink = document.createElement('div');\n",
              "          docLink.innerHTML = docLinkHtml;\n",
              "          element.appendChild(docLink);\n",
              "        }\n",
              "      </script>\n",
              "    </div>\n",
              "  </div>\n",
              "  "
            ]
          },
          "metadata": {},
          "execution_count": 30
        }
      ]
    },
    {
      "cell_type": "code",
      "source": [
        "# Expecifica o(s) campo(s) indexado(s) e faz uma cópia da lista indexada\n",
        "df_dataset_pos_indexado = df_dataset_pos.set_index([\"id\"])\n",
        "df_dataset_pos_indexado.head()"
      ],
      "metadata": {
        "colab": {
          "base_uri": "https://localhost:8080/",
          "height": 238
        },
        "id": "j70x_r30T_bx",
        "outputId": "f35527ad-8f59-4c3e-c7c9-c8cd180e5d99"
      },
      "execution_count": 31,
      "outputs": [
        {
          "output_type": "execute_result",
          "data": {
            "text/plain": [
              "                                        pos_documento\n",
              "id                                                   \n",
              "1   [[[Depois, de, 20, dias, de, tempo, seco, ,, v...\n",
              "2   [[[Ao, menos, 17, pessoas, morreram, após, a, ...\n",
              "3   [[[O, ministro, da, Defesa, ,, Nelson, Jobim, ...\n",
              "4   [[[Usando, telescópios, do, Observatório, Euro...\n",
              "5   [[[A, seleção, brasileira, masculina, de, vôle..."
            ],
            "text/html": [
              "\n",
              "  <div id=\"df-391a0ccd-a20a-4e16-9c6b-a2e461d5975f\">\n",
              "    <div class=\"colab-df-container\">\n",
              "      <div>\n",
              "<style scoped>\n",
              "    .dataframe tbody tr th:only-of-type {\n",
              "        vertical-align: middle;\n",
              "    }\n",
              "\n",
              "    .dataframe tbody tr th {\n",
              "        vertical-align: top;\n",
              "    }\n",
              "\n",
              "    .dataframe thead th {\n",
              "        text-align: right;\n",
              "    }\n",
              "</style>\n",
              "<table border=\"1\" class=\"dataframe\">\n",
              "  <thead>\n",
              "    <tr style=\"text-align: right;\">\n",
              "      <th></th>\n",
              "      <th>pos_documento</th>\n",
              "    </tr>\n",
              "    <tr>\n",
              "      <th>id</th>\n",
              "      <th></th>\n",
              "    </tr>\n",
              "  </thead>\n",
              "  <tbody>\n",
              "    <tr>\n",
              "      <th>1</th>\n",
              "      <td>[[[Depois, de, 20, dias, de, tempo, seco, ,, v...</td>\n",
              "    </tr>\n",
              "    <tr>\n",
              "      <th>2</th>\n",
              "      <td>[[[Ao, menos, 17, pessoas, morreram, após, a, ...</td>\n",
              "    </tr>\n",
              "    <tr>\n",
              "      <th>3</th>\n",
              "      <td>[[[O, ministro, da, Defesa, ,, Nelson, Jobim, ...</td>\n",
              "    </tr>\n",
              "    <tr>\n",
              "      <th>4</th>\n",
              "      <td>[[[Usando, telescópios, do, Observatório, Euro...</td>\n",
              "    </tr>\n",
              "    <tr>\n",
              "      <th>5</th>\n",
              "      <td>[[[A, seleção, brasileira, masculina, de, vôle...</td>\n",
              "    </tr>\n",
              "  </tbody>\n",
              "</table>\n",
              "</div>\n",
              "      <button class=\"colab-df-convert\" onclick=\"convertToInteractive('df-391a0ccd-a20a-4e16-9c6b-a2e461d5975f')\"\n",
              "              title=\"Convert this dataframe to an interactive table.\"\n",
              "              style=\"display:none;\">\n",
              "        \n",
              "  <svg xmlns=\"http://www.w3.org/2000/svg\" height=\"24px\"viewBox=\"0 0 24 24\"\n",
              "       width=\"24px\">\n",
              "    <path d=\"M0 0h24v24H0V0z\" fill=\"none\"/>\n",
              "    <path d=\"M18.56 5.44l.94 2.06.94-2.06 2.06-.94-2.06-.94-.94-2.06-.94 2.06-2.06.94zm-11 1L8.5 8.5l.94-2.06 2.06-.94-2.06-.94L8.5 2.5l-.94 2.06-2.06.94zm10 10l.94 2.06.94-2.06 2.06-.94-2.06-.94-.94-2.06-.94 2.06-2.06.94z\"/><path d=\"M17.41 7.96l-1.37-1.37c-.4-.4-.92-.59-1.43-.59-.52 0-1.04.2-1.43.59L10.3 9.45l-7.72 7.72c-.78.78-.78 2.05 0 2.83L4 21.41c.39.39.9.59 1.41.59.51 0 1.02-.2 1.41-.59l7.78-7.78 2.81-2.81c.8-.78.8-2.07 0-2.86zM5.41 20L4 18.59l7.72-7.72 1.47 1.35L5.41 20z\"/>\n",
              "  </svg>\n",
              "      </button>\n",
              "      \n",
              "  <style>\n",
              "    .colab-df-container {\n",
              "      display:flex;\n",
              "      flex-wrap:wrap;\n",
              "      gap: 12px;\n",
              "    }\n",
              "\n",
              "    .colab-df-convert {\n",
              "      background-color: #E8F0FE;\n",
              "      border: none;\n",
              "      border-radius: 50%;\n",
              "      cursor: pointer;\n",
              "      display: none;\n",
              "      fill: #1967D2;\n",
              "      height: 32px;\n",
              "      padding: 0 0 0 0;\n",
              "      width: 32px;\n",
              "    }\n",
              "\n",
              "    .colab-df-convert:hover {\n",
              "      background-color: #E2EBFA;\n",
              "      box-shadow: 0px 1px 2px rgba(60, 64, 67, 0.3), 0px 1px 3px 1px rgba(60, 64, 67, 0.15);\n",
              "      fill: #174EA6;\n",
              "    }\n",
              "\n",
              "    [theme=dark] .colab-df-convert {\n",
              "      background-color: #3B4455;\n",
              "      fill: #D2E3FC;\n",
              "    }\n",
              "\n",
              "    [theme=dark] .colab-df-convert:hover {\n",
              "      background-color: #434B5C;\n",
              "      box-shadow: 0px 1px 3px 1px rgba(0, 0, 0, 0.15);\n",
              "      filter: drop-shadow(0px 1px 2px rgba(0, 0, 0, 0.3));\n",
              "      fill: #FFFFFF;\n",
              "    }\n",
              "  </style>\n",
              "\n",
              "      <script>\n",
              "        const buttonEl =\n",
              "          document.querySelector('#df-391a0ccd-a20a-4e16-9c6b-a2e461d5975f button.colab-df-convert');\n",
              "        buttonEl.style.display =\n",
              "          google.colab.kernel.accessAllowed ? 'block' : 'none';\n",
              "\n",
              "        async function convertToInteractive(key) {\n",
              "          const element = document.querySelector('#df-391a0ccd-a20a-4e16-9c6b-a2e461d5975f');\n",
              "          const dataTable =\n",
              "            await google.colab.kernel.invokeFunction('convertToInteractive',\n",
              "                                                     [key], {});\n",
              "          if (!dataTable) return;\n",
              "\n",
              "          const docLinkHtml = 'Like what you see? Visit the ' +\n",
              "            '<a target=\"_blank\" href=https://colab.research.google.com/notebooks/data_table.ipynb>data table notebook</a>'\n",
              "            + ' to learn more about interactive tables.';\n",
              "          element.innerHTML = '';\n",
              "          dataTable['output_type'] = 'display_data';\n",
              "          await google.colab.output.renderOutput(dataTable, element);\n",
              "          const docLink = document.createElement('div');\n",
              "          docLink.innerHTML = docLinkHtml;\n",
              "          element.appendChild(docLink);\n",
              "        }\n",
              "      </script>\n",
              "    </div>\n",
              "  </div>\n",
              "  "
            ]
          },
          "metadata": {},
          "execution_count": 31
        }
      ]
    },
    {
      "cell_type": "markdown",
      "source": [
        "## 4.2 Reconhendo as entidades nomeadas"
      ],
      "metadata": {
        "id": "EfrWyVRebtCo"
      }
    },
    {
      "cell_type": "markdown",
      "source": [
        "### 4.2.1 Reconhecendo as entidades nomeadas"
      ],
      "metadata": {
        "id": "w1HsE9cpfVdN"
      }
    },
    {
      "cell_type": "code",
      "source": [
        "# Import das bibliotecas.\n",
        "import re\n",
        "# Biblioteca para acessar o sistema de arquivos\n",
        "import os\n",
        "# Biblioteca para barra de progresso\n",
        "from tqdm.notebook import tqdm as tqdm_notebook\n",
        "\n",
        "logging.info(\"Processando {} documentos.\".format(len(df_dataset)))\n",
        "\n",
        "# Barra de progresso dos dados\n",
        "dados_bar = tqdm_notebook(df_dataset.iterrows(), desc=f\"Dados\", unit=f\"registro\", total=len(df_dataset))\n",
        "\n",
        "# Lista para armazenar as entidades reconhecidas do documento\n",
        "lista_dataset_ner = []\n",
        "\n",
        "# Percorre as linhas dos documentos\n",
        "for i, linha_documento in dados_bar:\n",
        "\n",
        "    # Carrega a lista das sentenças do documento de acordo com o tipo armazenado\n",
        "    lista_sentenca_documento = linha_documento[1]\n",
        "\n",
        "    # Lista para armazenar as entidades das sentenças do documento   \n",
        "    lista_sentenca_documentos_ner = []\n",
        "\n",
        "    # Percorre as sentenças do documento\n",
        "    for j, sentenca in enumerate(lista_sentenca_documento):\n",
        "      #print(sentenca)\n",
        "\n",
        "      # Processa sentença no spaCy para extrair as entidades\n",
        "      doc = nlp(sentenca)\n",
        "\n",
        "      # Armazena as entidades da sentença\n",
        "      lista_ner_sentenca = []\n",
        "      for ent in doc.ents:\n",
        "          #print(ent.text, ent.label_, ent.start_char, ent.end_char)\n",
        "          # Guarda o texto da entidade, o tipo da entidade, a posição inicial e a posição final\n",
        "          lista_ner_sentenca.append([ent.text, ent.label_, ent.start_char, ent.end_char])\n",
        "\n",
        "      # Concatena o pos do documento\n",
        "      lista_sentenca_documentos_ner.append([j, lista_ner_sentenca])\n",
        "      \n",
        "    # Adiciona o documento a lista\n",
        "    lista_dataset_ner.append([linha_documento[0], lista_sentenca_documentos_ner])  "
      ],
      "metadata": {
        "colab": {
          "base_uri": "https://localhost:8080/",
          "height": 66,
          "referenced_widgets": [
            "fb91b9eb70a54d30b27559b604f48e07",
            "40ddd039c99344f4bc89e6737f0f5c37",
            "cf4551ab33bf4ddfaa202ea5ab62f55c",
            "af4c2b8810b74d37bb77c9476bfbf7da",
            "4a2b0b4f859d4965bad0472b00541149",
            "5d5958561dcd42fe9fbbef4811fa3f33",
            "16b36ddbb91b4ae48a0aae449f03fec2",
            "42ca13a551394e6cbe8c2742cbfa266b",
            "7ed1e2ad34c9445fabe4a48c056f39f9",
            "fc78712a559d44feb49d5df450248c11",
            "3aa46003a7af40b0b546b8488efdccb8"
          ]
        },
        "id": "Yam8O_eZbxO4",
        "outputId": "d3767a00-509e-4218-d6c5-59f511378bfa"
      },
      "execution_count": 32,
      "outputs": [
        {
          "output_type": "stream",
          "name": "stderr",
          "text": [
            "INFO:root:Processando 20 documentos.\n"
          ]
        },
        {
          "output_type": "display_data",
          "data": {
            "text/plain": [
              "Dados:   0%|          | 0/20 [00:00<?, ?registro/s]"
            ],
            "application/vnd.jupyter.widget-view+json": {
              "version_major": 2,
              "version_minor": 0,
              "model_id": "fb91b9eb70a54d30b27559b604f48e07"
            }
          },
          "metadata": {}
        }
      ]
    },
    {
      "cell_type": "markdown",
      "source": [
        "## 4.3 Salva as Entidades geradas\n",
        "\n",
        "Gera o arquivo com as entidades reconhecidas e depois compacta o arquivo para enviar para o Google Drive.\n"
      ],
      "metadata": {
        "id": "ifRE7ABezM_Z"
      }
    },
    {
      "cell_type": "markdown",
      "metadata": {
        "id": "FgUGrLmKCO84"
      },
      "source": [
        "### 4.3.1 Especifica os nomes dos arquivos das entidades do dataset\n"
      ]
    },
    {
      "cell_type": "code",
      "execution_count": 33,
      "metadata": {
        "id": "8X2kEzrPCO9D"
      },
      "outputs": [],
      "source": [
        "# Nome do arquivo\n",
        "NOME_ARQUIVO_DATASET_NER = \"datasetner.csv\"\n",
        "NOME_ARQUIVO_DATASET_NER_COMPACTADO = \"datasetner.zip\""
      ]
    },
    {
      "cell_type": "markdown",
      "metadata": {
        "id": "P4r6uXPeCs02"
      },
      "source": [
        "### 4.3.2 Gera arquivo das entidades"
      ]
    },
    {
      "cell_type": "code",
      "execution_count": 34,
      "metadata": {
        "id": "HhdHqZCICu5P"
      },
      "outputs": [],
      "source": [
        "# Import das bibliotecas.\n",
        "import pandas as pd\n",
        "\n",
        "# Cria o dataframe da lista\n",
        "df_dataset_ner = pd.DataFrame(lista_dataset_ner, columns = [\"id\",\"ner_documento\"])\n",
        "\n",
        "# Salva o arquivo das postagging\n",
        "df_dataset_ner.to_csv(DIRETORIO_LOCAL + NOME_ARQUIVO_DATASET_NER,  sep=\";\", index=False)"
      ]
    },
    {
      "cell_type": "markdown",
      "metadata": {
        "id": "SVPHQPvPSVK-"
      },
      "source": [
        "### 4.3.3 Compacta e copia a entidades reconhecidas do dataset para uma pasta do GoogleDrive"
      ]
    },
    {
      "cell_type": "markdown",
      "metadata": {
        "id": "37e0qS7Dkwou"
      },
      "source": [
        "Compacta o arquivo gerado da comparação para facilitar o envio para o GoogleDrive"
      ]
    },
    {
      "cell_type": "code",
      "execution_count": 35,
      "metadata": {
        "colab": {
          "base_uri": "https://localhost:8080/"
        },
        "id": "4f2VhAHXkwow",
        "outputId": "1d535fbc-d59a-4cfc-bf88-780a2b9aa52f"
      },
      "outputs": [
        {
          "output_type": "stream",
          "name": "stderr",
          "text": [
            "INFO:root:Terminei a compactação.\n"
          ]
        }
      ],
      "source": [
        "# Se estiver executando no Google Colaboratory\n",
        "if IN_COLAB:\n",
        "\n",
        "  !zip -o -q -j \"$DIRETORIO_LOCAL$NOME_ARQUIVO_DATASET_NER_COMPACTADO\" \"$DIRETORIO_LOCAL$NOME_ARQUIVO_DATASET_NER\"\n",
        "\n",
        "  logging.info(\"Terminei a compactação.\")"
      ]
    },
    {
      "cell_type": "markdown",
      "metadata": {
        "id": "g8j3HeRs6jwT"
      },
      "source": [
        "Copia o arquivo para o GoogleDrive"
      ]
    },
    {
      "cell_type": "code",
      "execution_count": 36,
      "metadata": {
        "colab": {
          "base_uri": "https://localhost:8080/"
        },
        "id": "G4aos3qISVK_",
        "outputId": "a984353c-79d6-4d2f-fde9-28b6c01fec5a"
      },
      "outputs": [
        {
          "output_type": "stream",
          "name": "stderr",
          "text": [
            "INFO:root:Terminei a cópia do arquivo.\n"
          ]
        }
      ],
      "source": [
        "# Se estiver executando no Google Colaboratory\n",
        "if IN_COLAB:\n",
        "   \n",
        "    # Copia o arquivo das postagging       \n",
        "    !cp \"$DIRETORIO_LOCAL$NOME_ARQUIVO_DATASET_NER_COMPACTADO\" \"$DIRETORIO_DRIVE\"\n",
        "        \n",
        "    logging.info(\"Terminei a cópia do arquivo.\")"
      ]
    },
    {
      "cell_type": "markdown",
      "metadata": {
        "id": "ZmcNOHfFOi5l"
      },
      "source": [
        "### 4.3.4 Carrega os dados\n",
        "\n",
        "Realiza um teste carregando o arquivo da entidades do dataset criado.\n"
      ]
    },
    {
      "cell_type": "code",
      "execution_count": 37,
      "metadata": {
        "colab": {
          "base_uri": "https://localhost:8080/"
        },
        "id": "S_qIhK5YXmEZ",
        "outputId": "3467cbdd-7704-42eb-ce1e-2378f4a065d8"
      },
      "outputs": [
        {
          "output_type": "stream",
          "name": "stdout",
          "text": [
            "20\n"
          ]
        }
      ],
      "source": [
        "# Import das bibliotecas.\n",
        "import pandas as pd\n",
        "\n",
        "# Abre o arquivo e retorna o DataFrame\n",
        "df_dataset_ner = pd.read_csv(DIRETORIO_LOCAL + NOME_ARQUIVO_DATASET_NER, sep=\";\", encoding=\"UTF-8\")\n",
        "\n",
        "print(len(df_dataset_pos))"
      ]
    },
    {
      "cell_type": "markdown",
      "source": [
        "Corrigir o tipo de dados da lista das entidades\n",
        "\n",
        "Na lista  pos:\n",
        "- coluna 1 - `ner_documento` carregadas do arquivo vem como string e não como lista."
      ],
      "metadata": {
        "id": "cRvHQC2IlGQS"
      }
    },
    {
      "cell_type": "code",
      "source": [
        "# Import das bibliotecas.\n",
        "import ast # Biblioteca para conversão de string em lista\n",
        "\n",
        "df_dataset_ner[\"ner_documento\"] = df_dataset_ner[\"ner_documento\"].apply(lambda x: ast.literal_eval(x) if type(x)!=list else x)\n",
        "\n",
        "logging.info(\"TERMINADO CORREÇÃO DOCUMENTOS NER: {}.\".format(len(df_dataset_ner)))"
      ],
      "metadata": {
        "colab": {
          "base_uri": "https://localhost:8080/"
        },
        "id": "mfUgUaazk9x6",
        "outputId": "97a05795-b6ea-4dae-b48d-92e8bb1b3eb3"
      },
      "execution_count": 38,
      "outputs": [
        {
          "output_type": "stream",
          "name": "stderr",
          "text": [
            "INFO:root:TERMINADO CORREÇÃO DOCUMENTOS NER: 20.\n"
          ]
        }
      ]
    },
    {
      "cell_type": "code",
      "execution_count": 39,
      "metadata": {
        "colab": {
          "base_uri": "https://localhost:8080/",
          "height": 206
        },
        "id": "inI1yb-nX21I",
        "outputId": "077f65ca-c6f0-4b67-aa7e-37f15c82cdff"
      },
      "outputs": [
        {
          "output_type": "execute_result",
          "data": {
            "text/plain": [
              "    id                                      ner_documento\n",
              "13  14  [[0, [['Aeroporto Internacional de São Paulo',...\n",
              "12  13  [[0, [['Diego Maradona', 'PER', 30, 44], ['Alf...\n",
              "1    2  [[0, [['República Democrática do Congo', 'LOC'...\n",
              "4    5  [[0, [['Bernardinho', 'PER', 60, 71], ['Finlân...\n",
              "0    1  [[0, []], [1, [['São Paulo', 'LOC', 17, 26], [..."
            ],
            "text/html": [
              "\n",
              "  <div id=\"df-7c12ca6b-0e13-45e9-9c19-3938756148da\">\n",
              "    <div class=\"colab-df-container\">\n",
              "      <div>\n",
              "<style scoped>\n",
              "    .dataframe tbody tr th:only-of-type {\n",
              "        vertical-align: middle;\n",
              "    }\n",
              "\n",
              "    .dataframe tbody tr th {\n",
              "        vertical-align: top;\n",
              "    }\n",
              "\n",
              "    .dataframe thead th {\n",
              "        text-align: right;\n",
              "    }\n",
              "</style>\n",
              "<table border=\"1\" class=\"dataframe\">\n",
              "  <thead>\n",
              "    <tr style=\"text-align: right;\">\n",
              "      <th></th>\n",
              "      <th>id</th>\n",
              "      <th>ner_documento</th>\n",
              "    </tr>\n",
              "  </thead>\n",
              "  <tbody>\n",
              "    <tr>\n",
              "      <th>13</th>\n",
              "      <td>14</td>\n",
              "      <td>[[0, [['Aeroporto Internacional de São Paulo',...</td>\n",
              "    </tr>\n",
              "    <tr>\n",
              "      <th>12</th>\n",
              "      <td>13</td>\n",
              "      <td>[[0, [['Diego Maradona', 'PER', 30, 44], ['Alf...</td>\n",
              "    </tr>\n",
              "    <tr>\n",
              "      <th>1</th>\n",
              "      <td>2</td>\n",
              "      <td>[[0, [['República Democrática do Congo', 'LOC'...</td>\n",
              "    </tr>\n",
              "    <tr>\n",
              "      <th>4</th>\n",
              "      <td>5</td>\n",
              "      <td>[[0, [['Bernardinho', 'PER', 60, 71], ['Finlân...</td>\n",
              "    </tr>\n",
              "    <tr>\n",
              "      <th>0</th>\n",
              "      <td>1</td>\n",
              "      <td>[[0, []], [1, [['São Paulo', 'LOC', 17, 26], [...</td>\n",
              "    </tr>\n",
              "  </tbody>\n",
              "</table>\n",
              "</div>\n",
              "      <button class=\"colab-df-convert\" onclick=\"convertToInteractive('df-7c12ca6b-0e13-45e9-9c19-3938756148da')\"\n",
              "              title=\"Convert this dataframe to an interactive table.\"\n",
              "              style=\"display:none;\">\n",
              "        \n",
              "  <svg xmlns=\"http://www.w3.org/2000/svg\" height=\"24px\"viewBox=\"0 0 24 24\"\n",
              "       width=\"24px\">\n",
              "    <path d=\"M0 0h24v24H0V0z\" fill=\"none\"/>\n",
              "    <path d=\"M18.56 5.44l.94 2.06.94-2.06 2.06-.94-2.06-.94-.94-2.06-.94 2.06-2.06.94zm-11 1L8.5 8.5l.94-2.06 2.06-.94-2.06-.94L8.5 2.5l-.94 2.06-2.06.94zm10 10l.94 2.06.94-2.06 2.06-.94-2.06-.94-.94-2.06-.94 2.06-2.06.94z\"/><path d=\"M17.41 7.96l-1.37-1.37c-.4-.4-.92-.59-1.43-.59-.52 0-1.04.2-1.43.59L10.3 9.45l-7.72 7.72c-.78.78-.78 2.05 0 2.83L4 21.41c.39.39.9.59 1.41.59.51 0 1.02-.2 1.41-.59l7.78-7.78 2.81-2.81c.8-.78.8-2.07 0-2.86zM5.41 20L4 18.59l7.72-7.72 1.47 1.35L5.41 20z\"/>\n",
              "  </svg>\n",
              "      </button>\n",
              "      \n",
              "  <style>\n",
              "    .colab-df-container {\n",
              "      display:flex;\n",
              "      flex-wrap:wrap;\n",
              "      gap: 12px;\n",
              "    }\n",
              "\n",
              "    .colab-df-convert {\n",
              "      background-color: #E8F0FE;\n",
              "      border: none;\n",
              "      border-radius: 50%;\n",
              "      cursor: pointer;\n",
              "      display: none;\n",
              "      fill: #1967D2;\n",
              "      height: 32px;\n",
              "      padding: 0 0 0 0;\n",
              "      width: 32px;\n",
              "    }\n",
              "\n",
              "    .colab-df-convert:hover {\n",
              "      background-color: #E2EBFA;\n",
              "      box-shadow: 0px 1px 2px rgba(60, 64, 67, 0.3), 0px 1px 3px 1px rgba(60, 64, 67, 0.15);\n",
              "      fill: #174EA6;\n",
              "    }\n",
              "\n",
              "    [theme=dark] .colab-df-convert {\n",
              "      background-color: #3B4455;\n",
              "      fill: #D2E3FC;\n",
              "    }\n",
              "\n",
              "    [theme=dark] .colab-df-convert:hover {\n",
              "      background-color: #434B5C;\n",
              "      box-shadow: 0px 1px 3px 1px rgba(0, 0, 0, 0.15);\n",
              "      filter: drop-shadow(0px 1px 2px rgba(0, 0, 0, 0.3));\n",
              "      fill: #FFFFFF;\n",
              "    }\n",
              "  </style>\n",
              "\n",
              "      <script>\n",
              "        const buttonEl =\n",
              "          document.querySelector('#df-7c12ca6b-0e13-45e9-9c19-3938756148da button.colab-df-convert');\n",
              "        buttonEl.style.display =\n",
              "          google.colab.kernel.accessAllowed ? 'block' : 'none';\n",
              "\n",
              "        async function convertToInteractive(key) {\n",
              "          const element = document.querySelector('#df-7c12ca6b-0e13-45e9-9c19-3938756148da');\n",
              "          const dataTable =\n",
              "            await google.colab.kernel.invokeFunction('convertToInteractive',\n",
              "                                                     [key], {});\n",
              "          if (!dataTable) return;\n",
              "\n",
              "          const docLinkHtml = 'Like what you see? Visit the ' +\n",
              "            '<a target=\"_blank\" href=https://colab.research.google.com/notebooks/data_table.ipynb>data table notebook</a>'\n",
              "            + ' to learn more about interactive tables.';\n",
              "          element.innerHTML = '';\n",
              "          dataTable['output_type'] = 'display_data';\n",
              "          await google.colab.output.renderOutput(dataTable, element);\n",
              "          const docLink = document.createElement('div');\n",
              "          docLink.innerHTML = docLinkHtml;\n",
              "          element.appendChild(docLink);\n",
              "        }\n",
              "      </script>\n",
              "    </div>\n",
              "  </div>\n",
              "  "
            ]
          },
          "metadata": {},
          "execution_count": 39
        }
      ],
      "source": [
        "df_dataset_ner.sample(5)"
      ]
    },
    {
      "cell_type": "markdown",
      "metadata": {
        "id": "lIjF4JyJVbdr"
      },
      "source": [
        "## 4.4 Exemplo\n",
        "\n",
        "Exemplo gráfico do reconhecimento de entidade em um documento."
      ]
    },
    {
      "cell_type": "markdown",
      "source": [
        "### Texto a ser analisado"
      ],
      "metadata": {
        "id": "IUPnaBZYak_1"
      }
    },
    {
      "cell_type": "code",
      "metadata": {
        "id": "DpdLO64TVObM",
        "colab": {
          "base_uri": "https://localhost:8080/"
        },
        "outputId": "ffbf6a22-e7f8-462d-9da9-5f92d4d0ee76"
      },
      "source": [
        "# Recupera o primeiro documento\n",
        "documento = df_dataset['documento'][0]\n",
        "\n",
        "# Ou especifique diretamente um texto\n",
        "#documento = \"O Brasil, um vasto país sul-americano, estende-se da Bacia Amazônica, no norte, até os vinhedos e as gigantescas Cataratas do Iguaçu, no sul. O Rio de Janeiro, simbolizado pela sua estátua de 38 metros de altura do Cristo Redentor, situada no topo do Corcovado, é famoso pelas movimentadas praias de Copacabana e Ipanema, bem como pelo imenso e animado Carnaval, com desfiles de carros alegóricos, fantasias extravagantes e samba.\"\n",
        "\n",
        "# Mostra o documento\n",
        "print(documento)"
      ],
      "execution_count": 40,
      "outputs": [
        {
          "output_type": "stream",
          "name": "stdout",
          "text": [
            "Depois de 20 dias de tempo seco, voltou a chover na capital paulista. A forte chuva em São Paulo complicava o trânsito na manhã desta segunda-feira, 16, e fez com que o Centro de Gerenciamento de Emergência (CGE) da Prefeitura colocasse a cidade em estado de atenção. Até 9h30m foram registrados oito pontos de alagamento, dois deles intransitáveis - na Marginal Pinheiros, na altura da Ponte João Dias, e na Marginal Tietê, no acesso à Rodovia dos Bandeirantes. Às 9 horas, a cidade tinha 113 km de lentidão, sendo que a média para o horário é de 82 km, segundo a Companhia de Engenharia de Tráfego (CET).\n"
          ]
        }
      ]
    },
    {
      "cell_type": "markdown",
      "metadata": {
        "id": "g771s17Cjr6Q"
      },
      "source": [
        "### Armazena um texto."
      ]
    },
    {
      "cell_type": "code",
      "metadata": {
        "id": "8FEGlAMwjuQy",
        "colab": {
          "base_uri": "https://localhost:8080/"
        },
        "outputId": "b237f605-2c33-4778-f599-8739bb65a66e"
      },
      "source": [
        "# Submete o texto ao spaCy\n",
        "doc = nlp(documento)\n",
        "\n",
        "logging.info('Texto armazenado!')"
      ],
      "execution_count": 41,
      "outputs": [
        {
          "output_type": "stream",
          "name": "stderr",
          "text": [
            "INFO:root:Texto armazenado!\n"
          ]
        }
      ]
    },
    {
      "cell_type": "markdown",
      "metadata": {
        "id": "xwml1YkDlXPf"
      },
      "source": [
        "### Identificando as entidades. (NER/Named Entity Recognition)\n",
        "\n",
        "**Text**: o texto original da entidade.<br>\n",
        "**Start**: Índice de início da entidade no Doc.<br>\n",
        "**End**: Índice do fim da entidade no Doc.<br>\n",
        "**Label**: rótulo da entidade, ou seja, tipo.<br>\n",
        "\n",
        "https://medium.com/botsbrasil/como-reconhecer-entidades-na-l%C3%ADngua-portuguesa-usando-spacy-8a5ca6f42c4f"
      ]
    },
    {
      "cell_type": "markdown",
      "metadata": {
        "id": "3NRQb-Gp5EAP"
      },
      "source": [
        "### Listando as entidades identificadas"
      ]
    },
    {
      "cell_type": "code",
      "metadata": {
        "id": "OCUsoS4En0JK",
        "colab": {
          "base_uri": "https://localhost:8080/"
        },
        "outputId": "ddecd6b3-49d1-4593-80b2-e9616d7a2d79"
      },
      "source": [
        "for ent in doc.ents:\n",
        "   print(ent.text, ent.start_char, ent.end_char, ent.label_)"
      ],
      "execution_count": 42,
      "outputs": [
        {
          "output_type": "stream",
          "name": "stdout",
          "text": [
            "São Paulo 87 96 LOC\n",
            "Centro de Gerenciamento de Emergência 169 206 LOC\n",
            "Prefeitura 216 226 LOC\n",
            "Marginal Pinheiros 354 372 LOC\n",
            "Ponte João Dias 387 402 LOC\n",
            "Marginal Tietê 409 423 LOC\n",
            "Rodovia dos Bandeirantes 437 461 LOC\n",
            "Companhia de Engenharia de Tráfego 565 599 ORG\n"
          ]
        }
      ]
    },
    {
      "cell_type": "markdown",
      "metadata": {
        "id": "ww1JVrsEn2ck"
      },
      "source": [
        "ou"
      ]
    },
    {
      "cell_type": "code",
      "metadata": {
        "id": "gIytTFrXlZOU",
        "colab": {
          "base_uri": "https://localhost:8080/"
        },
        "outputId": "a8458d8e-41cb-476c-e7bc-df2dc95e06b9"
      },
      "source": [
        "[(entity, entity.label_) for entity in doc.ents]"
      ],
      "execution_count": 43,
      "outputs": [
        {
          "output_type": "execute_result",
          "data": {
            "text/plain": [
              "[(São Paulo, 'LOC'),\n",
              " (Centro de Gerenciamento de Emergência, 'LOC'),\n",
              " (Prefeitura, 'LOC'),\n",
              " (Marginal Pinheiros, 'LOC'),\n",
              " (Ponte João Dias, 'LOC'),\n",
              " (Marginal Tietê, 'LOC'),\n",
              " (Rodovia dos Bandeirantes, 'LOC'),\n",
              " (Companhia de Engenharia de Tráfego, 'ORG')]"
            ]
          },
          "metadata": {},
          "execution_count": 43
        }
      ]
    },
    {
      "cell_type": "markdown",
      "source": [
        "### Visualizando o texto marcado"
      ],
      "metadata": {
        "id": "JGgTWAlP_shk"
      }
    },
    {
      "cell_type": "code",
      "source": [
        "# Importando as bibliotecas.\n",
        "import spacy \n",
        "from spacy  import displacy\n",
        "\n",
        "displacy.render(doc,style=\"ent\",jupyter=True)"
      ],
      "metadata": {
        "colab": {
          "base_uri": "https://localhost:8080/",
          "height": 192
        },
        "id": "SH_Hx3I8_PiM",
        "outputId": "2e223c72-85d3-4765-efb7-b1100f2d25e2"
      },
      "execution_count": 44,
      "outputs": [
        {
          "output_type": "display_data",
          "data": {
            "text/plain": [
              "<IPython.core.display.HTML object>"
            ],
            "text/html": [
              "<span class=\"tex2jax_ignore\"><div class=\"entities\" style=\"line-height: 2.5; direction: ltr\">Depois de 20 dias de tempo seco, voltou a chover na capital paulista. A forte chuva em \n",
              "<mark class=\"entity\" style=\"background: #ff9561; padding: 0.45em 0.6em; margin: 0 0.25em; line-height: 1; border-radius: 0.35em;\">\n",
              "    São Paulo\n",
              "    <span style=\"font-size: 0.8em; font-weight: bold; line-height: 1; border-radius: 0.35em; vertical-align: middle; margin-left: 0.5rem\">LOC</span>\n",
              "</mark>\n",
              " complicava o trânsito na manhã desta segunda-feira, 16, e fez com que o \n",
              "<mark class=\"entity\" style=\"background: #ff9561; padding: 0.45em 0.6em; margin: 0 0.25em; line-height: 1; border-radius: 0.35em;\">\n",
              "    Centro de Gerenciamento de Emergência\n",
              "    <span style=\"font-size: 0.8em; font-weight: bold; line-height: 1; border-radius: 0.35em; vertical-align: middle; margin-left: 0.5rem\">LOC</span>\n",
              "</mark>\n",
              " (CGE) da \n",
              "<mark class=\"entity\" style=\"background: #ff9561; padding: 0.45em 0.6em; margin: 0 0.25em; line-height: 1; border-radius: 0.35em;\">\n",
              "    Prefeitura\n",
              "    <span style=\"font-size: 0.8em; font-weight: bold; line-height: 1; border-radius: 0.35em; vertical-align: middle; margin-left: 0.5rem\">LOC</span>\n",
              "</mark>\n",
              " colocasse a cidade em estado de atenção. Até 9h30m foram registrados oito pontos de alagamento, dois deles intransitáveis - na \n",
              "<mark class=\"entity\" style=\"background: #ff9561; padding: 0.45em 0.6em; margin: 0 0.25em; line-height: 1; border-radius: 0.35em;\">\n",
              "    Marginal Pinheiros\n",
              "    <span style=\"font-size: 0.8em; font-weight: bold; line-height: 1; border-radius: 0.35em; vertical-align: middle; margin-left: 0.5rem\">LOC</span>\n",
              "</mark>\n",
              ", na altura da \n",
              "<mark class=\"entity\" style=\"background: #ff9561; padding: 0.45em 0.6em; margin: 0 0.25em; line-height: 1; border-radius: 0.35em;\">\n",
              "    Ponte João Dias\n",
              "    <span style=\"font-size: 0.8em; font-weight: bold; line-height: 1; border-radius: 0.35em; vertical-align: middle; margin-left: 0.5rem\">LOC</span>\n",
              "</mark>\n",
              ", e na \n",
              "<mark class=\"entity\" style=\"background: #ff9561; padding: 0.45em 0.6em; margin: 0 0.25em; line-height: 1; border-radius: 0.35em;\">\n",
              "    Marginal Tietê\n",
              "    <span style=\"font-size: 0.8em; font-weight: bold; line-height: 1; border-radius: 0.35em; vertical-align: middle; margin-left: 0.5rem\">LOC</span>\n",
              "</mark>\n",
              ", no acesso à \n",
              "<mark class=\"entity\" style=\"background: #ff9561; padding: 0.45em 0.6em; margin: 0 0.25em; line-height: 1; border-radius: 0.35em;\">\n",
              "    Rodovia dos Bandeirantes\n",
              "    <span style=\"font-size: 0.8em; font-weight: bold; line-height: 1; border-radius: 0.35em; vertical-align: middle; margin-left: 0.5rem\">LOC</span>\n",
              "</mark>\n",
              ". Às 9 horas, a cidade tinha 113 km de lentidão, sendo que a média para o horário é de 82 km, segundo a \n",
              "<mark class=\"entity\" style=\"background: #7aecec; padding: 0.45em 0.6em; margin: 0 0.25em; line-height: 1; border-radius: 0.35em;\">\n",
              "    Companhia de Engenharia de Tráfego\n",
              "    <span style=\"font-size: 0.8em; font-weight: bold; line-height: 1; border-radius: 0.35em; vertical-align: middle; margin-left: 0.5rem\">ORG</span>\n",
              "</mark>\n",
              " (CET).</div></span>"
            ]
          },
          "metadata": {}
        }
      ]
    },
    {
      "cell_type": "markdown",
      "metadata": {
        "id": "Yj0ya60zrm8t"
      },
      "source": [
        "# 5 Finalização"
      ]
    },
    {
      "cell_type": "markdown",
      "metadata": {
        "id": "Bcjt085lZGUr"
      },
      "source": [
        "## 5.1 Tempo final de processamento\n",
        "\n"
      ]
    },
    {
      "cell_type": "code",
      "metadata": {
        "id": "H50_GKJwpDha",
        "colab": {
          "base_uri": "https://localhost:8080/"
        },
        "outputId": "e27e9bde-abe9-48b7-bbe4-a34e278b4219"
      },
      "source": [
        "# Pega o tempo atual menos o tempo do início do processamento.\n",
        "final_processamento = time.time()\n",
        "tempo_total_processamento = formataTempo(final_processamento - inicio_processamento)\n",
        "\n",
        "print(\"\")\n",
        "print(\"  Tempo processamento:  {:} (h:mm:ss)\".format(tempo_total_processamento))"
      ],
      "execution_count": 45,
      "outputs": [
        {
          "output_type": "stream",
          "name": "stdout",
          "text": [
            "\n",
            "  Tempo processamento:  0:02:25 (h:mm:ss)\n"
          ]
        }
      ]
    }
  ]
}